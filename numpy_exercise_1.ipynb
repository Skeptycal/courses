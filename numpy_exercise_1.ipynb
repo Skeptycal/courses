{
    "worksheets": [
        {
            "cells": [
                {
                    "source": [
                        "## Numpy exercise 1\n",
                        "\n",
                        "Use ``np.arange`` and ``reshape`` to create the array\n",
                        "\n",
                        "    A = [[1 2 3 4]\n",
                        "         [5 6 7 8]]"
                    ],
                    "cell_type": "markdown",
                    "metadata": {}
                },
                {
                    "outputs": [],
                    "cell_type": "code",
                    "input": [
                        "import numpy as np\n",
                        "A = np.arange(1, 9).reshape(2, -1)\n",
                        "print A"
                    ],
                    "collapsed": false,
                    "language": "python",
                    "metadata": {}
                },
                {
                    "source": [
                        "\n",
                        "Use ``np.array`` to create the array\n",
                        "\n",
                        "    B = [1 2]"
                    ],
                    "cell_type": "markdown",
                    "metadata": {}
                },
                {
                    "outputs": [],
                    "cell_type": "code",
                    "input": [
                        "B = np.array([1, 2])\n",
                        "print B"
                    ],
                    "collapsed": false,
                    "language": "python",
                    "metadata": {}
                },
                {
                    "source": [
                        "Use broadcasting to add ``B`` to each **column** of ``A`` to create the final array\n",
                        "\n",
                        "    A + B = [[2  3  4  5]\n",
                        "             [7  8  9 10]\n",
                        "\n",
                        "Hint: what shape does ``B`` have to be changed to?"
                    ],
                    "cell_type": "markdown",
                    "metadata": {}
                },
                {
                    "outputs": [],
                    "cell_type": "code",
                    "input": [
                        "print A + B[:, np.newaxis]"
                    ],
                    "collapsed": false,
                    "language": "python",
                    "metadata": {}
                }
            ],
            "metadata": {}
        }
    ],
    "nbformat_minor": 0,
    "nbformat": 3,
    "metadata": {
        "name": ""
    }
}