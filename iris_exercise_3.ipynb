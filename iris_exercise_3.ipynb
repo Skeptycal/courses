{
    "worksheets": [
        {
            "cells": [
                {
                    "cell_type": "markdown",
                    "source": [
                        "**Exercise 3:**\n",
                        "\n",
                        "1. Write a function, which when given a cube, returns True or False depending on whether a cell method exists.\n",
                        "2. Use this function as a value for the ``iris.Constraint`` **cube_func** keyword, and load the file in ``iris.sample_data_path('A1B_north_america.nc')`` such that only cubes with cell methods are loaded (note: in this case, that is all that exists in the file)."
                    ],
                    "metadata": {}
                }
            ],
            "metadata": {}
        }
    ],
    "nbformat_minor": 0,
    "metadata": {
        "name": ""
    },
    "nbformat": 3
}