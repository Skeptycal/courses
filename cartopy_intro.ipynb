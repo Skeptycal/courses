{
    "metadata": {
        "signature": "sha256:a0d7eeb8b5605528ec498d27346390db2338d4e64cf8c973757713ad94a1e893",
        "name": ""
    },
    "cells": [],
    "worksheets": [
        {
            "cells": [
                {
                    "cell_type": "markdown",
                    "metadata": {},
                    "source": [
                        "## Cartopy in a nutshell\n",
                        "\n",
                        "Cartopy is a Python package that provides easy creation of maps, using matplotlib, for the analysis and visualisation of geospatial data."
                    ]
                },
                {
                    "cell_type": "markdown",
                    "metadata": {},
                    "source": [
                        "In order to create a map with cartopy and matplotlib, we typically need to import pyplot from matplotlib and cartopy's crs (coordinate reference system) submodule. These are typically imported as follows:"
                    ]
                },
                {
                    "metadata": {},
                    "execution_count": null,
                    "input": [
                        "import matplotlib.pyplot as plt\n",
                        "import cartopy.crs as ccrs"
                    ],
                    "language": "python",
                    "cell_type": "code",
                    "outputs": []
                },
                {
                    "cell_type": "markdown",
                    "metadata": {},
                    "source": [
                        "Cartopy's matplotlib interface is set up via the `projection` keyword when constructing a matplotlib `Axes` / `SubAxes` instance. The resulting axes instance has new methods, such as the **``coastlines()``** method, which are specific to drawing cartographic data:"
                    ]
                },
                {
                    "metadata": {},
                    "execution_count": null,
                    "input": [
                        "ax = plt.axes(projection=ccrs.PlateCarree())\n",
                        "ax.coastlines()\n",
                        "plt.show()"
                    ],
                    "language": "python",
                    "cell_type": "code",
                    "outputs": []
                },
                {
                    "cell_type": "markdown",
                    "metadata": {},
                    "source": [
                        "To draw cartographic data, we use the the standard matplotlib plotting routines with an additional **transform** keyword argument. The value of the **transform** argument should be the cartopy coordinate reference system *of the data being plotted*:"
                    ]
                },
                {
                    "metadata": {},
                    "execution_count": null,
                    "input": [
                        "ax = plt.axes(projection=ccrs.PlateCarree())\n",
                        "ax.coastlines()\n",
                        "ax.set_global()\n",
                        "plt.plot([-100, 50], [25, 25], linewidth=4, transform=ccrs.Geodetic())\n",
                        "plt.show()"
                    ],
                    "language": "python",
                    "cell_type": "code",
                    "outputs": []
                },
                {
                    "cell_type": "markdown",
                    "metadata": {},
                    "source": [
                        "Notice that unless we specify a map extent (we did so via the **``set_global``** method in this case) the map will zoom into the range of the plotted data."
                    ]
                },
                {
                    "cell_type": "markdown",
                    "metadata": {},
                    "source": [
                        "We can add graticule lines and tick labels to the map using the gridlines method (this currently is limited to just a few coordinate reference systems):"
                    ]
                },
                {
                    "metadata": {},
                    "execution_count": null,
                    "input": [
                        "ax = plt.axes(projection=ccrs.Mercator())\n",
                        "ax.coastlines()\n",
                        "gl = ax.gridlines(draw_labels=True)\n",
                        "plt.show()"
                    ],
                    "language": "python",
                    "cell_type": "code",
                    "outputs": []
                },
                {
                    "cell_type": "markdown",
                    "metadata": {},
                    "source": [
                        "We can control the specific tick values by using matplotlib's locator object, and the formatting can be controlled with matplotlib formatters:"
                    ]
                },
                {
                    "metadata": {},
                    "execution_count": null,
                    "input": [
                        "import matplotlib.ticker as mticker\n",
                        "from cartopy.mpl.gridliner import LATITUDE_FORMATTER\n",
                        "\n",
                        "ax = plt.axes(projection=ccrs.PlateCarree())\n",
                        "ax.coastlines()\n",
                        "gl = ax.gridlines(draw_labels=True)\n",
                        "\n",
                        "gl.xlocator = mticker.FixedLocator([-180, -45, 0, 45, 180])\n",
                        "gl.yformatter = LATITUDE_FORMATTER\n",
                        "\n",
                        "plt.show()"
                    ],
                    "language": "python",
                    "cell_type": "code",
                    "outputs": []
                },
                {
                    "cell_type": "markdown",
                    "metadata": {},
                    "source": [
                        "Cartopy cannot currently label all types of projection, though more work is intended on this functionality in the future."
                    ]
                },
                {
                    "cell_type": "markdown",
                    "metadata": {},
                    "source": [
                        "----\n",
                        "\n",
                        "**Exercise 1:**\n",
                        "\n",
                        "The following snippet of code produces coordinate arrays and some data in a rotated pole coordinate system. The coordinate system for the `x` and `y` values, which is similar to that found in the some limited area models of Europe, has a projection \"north pole\" at 177.5 longitude and 37.5 latitude."
                    ]
                },
                {
                    "metadata": {},
                    "execution_count": null,
                    "input": [
                        "import numpy as np\n",
                        "import matplotlib.pyplot as plt\n",
                        "import cartopy.crs as ccrs\n",
                        "\n",
                        "x = np.linspace(310, 390, 25)\n",
                        "y = np.linspace(-24, 25, 35)\n",
                        "x2d, y2d = np.meshgrid(x, y)\n",
                        "\n",
                        "data = np.cos(np.deg2rad(y2d) * 4) + np.sin(np.deg2rad(x2d) * 4)"
                    ],
                    "language": "python",
                    "cell_type": "code",
                    "outputs": []
                },
                {
                    "cell_type": "markdown",
                    "metadata": {},
                    "source": [
                        "1\\. Define a cartopy coordinate reference system which represents a rotated pole with a pole latitude of 37.5 and a pole longitude of 177.5."
                    ]
                },
                {
                    "metadata": {},
                    "execution_count": null,
                    "input": [
                        ""
                    ],
                    "language": "python",
                    "cell_type": "code",
                    "outputs": []
                },
                {
                    "cell_type": "markdown",
                    "metadata": {},
                    "source": [
                        "2\\. Produce a map, with coastlines, using the coordinate reference system created in #1."
                    ]
                },
                {
                    "metadata": {},
                    "execution_count": null,
                    "input": [
                        ""
                    ],
                    "language": "python",
                    "cell_type": "code",
                    "outputs": []
                },
                {
                    "cell_type": "markdown",
                    "metadata": {},
                    "source": [
                        "3\\. Produce a map, with coastlines, in a Plate Carree projection with a pcolormesh of the data generated by the code snippet provided at the beginning of the example. Remember that the data is supplied in the rotated coordinate system defined in #1."
                    ]
                },
                {
                    "metadata": {},
                    "execution_count": null,
                    "input": [
                        ""
                    ],
                    "language": "python",
                    "cell_type": "code",
                    "outputs": []
                }
            ]
        }
    ],
    "nbformat_minor": 0,
    "nbformat": 3
}