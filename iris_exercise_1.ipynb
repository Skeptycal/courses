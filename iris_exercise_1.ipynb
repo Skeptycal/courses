{
    "worksheets": [
        {
            "metadata": {},
            "cells": [
                {
                    "cell_type": "markdown",
                    "metadata": {},
                    "source": [
                        "## Exercise 1:\n",
                        "\n",
                        "1\\. Using the file in ``iris.sample_data_path('atlantic_profiles.nc')`` load the data and print the cube list. Store these cubes in a variable called cubes.\n",
                        "\n",
                        "2\\. Print a sorted list of unique names for the cubes.\n",
                        "\n",
                        "3\\. Extract the \"sea_water_potential_temperature\" cube. Print the minimum, maximum, mean and standard deviation of the cube's data.\n",
                        "\n",
                        "4\\. Print the attributes of the cube.\n",
                        "\n",
                        "5\\. Print the names of all coordinates on the cube. (Hint: Remember the cube.coords method)\n",
                        "\n",
                        "6\\. Get hold of the \"latitude\" coordinate on the cube. Identify whether the cube has bounds. Print the minimum and maximum latitude points in this cube."
                    ]
                },
                {
                    "cell_type": "code",
                    "input": [],
                    "metadata": {},
                    "collapsed": false,
                    "language": "python",
                    "outputs": []
                }
            ]
        }
    ],
    "metadata": {
        "name": ""
    },
    "nbformat": 3,
    "nbformat_minor": 0
}