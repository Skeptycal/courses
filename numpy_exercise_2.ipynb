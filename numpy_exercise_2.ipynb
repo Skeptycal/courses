{
    "metadata": {
        "name": ""
    },
    "worksheets": [
        {
            "cells": [
                {
                    "cell_type": "markdown",
                    "metadata": {
                        "slideshow": {
                            "slide_type": "slide"
                        }
                    },
                    "source": [
                        "# Exercise: trapezoidal integration\n",
                        "\n",
                        "In this exercise, you are tasked with implementing the simple trapezoid rule\n",
                        "formula for numerical integration. If we want to compute the definite integral\n",
                        "\n",
                        "$$\n",
                        "     \\int_{a}^{b}f(x)dx\n",
                        "$$\n",
                        "\n",
                        "we can partition the integration interval $[a,b]$ into smaller subintervals,\n",
                        "and approximate the area under the curve for each subinterval by the area of\n",
                        "the trapezoid created by linearly interpolating between the two function values\n",
                        "at each end of the subinterval."
                    ]
                },
                {
                    "cell_type": "markdown",
                    "metadata": {
                        "slideshow": {
                            "slide_type": "subslide"
                        }
                    },
                    "source": [
                        "For a pre-computed $y$ array (where $y = f(x)$ at discrete samples) the trapezoidal rule equation is:\n",
                        "\n",
                        "$$\n",
                        "   \\int_{a}^{b}f(x)dx\\approx\\frac{1}{2}\\sum_{i=1}^{n}\\left(x_{i}-x_{i-1}\\right)\\left(y_{i}+y_{i-1}\\right).\n",
                        "$$\n",
                        "\n",
                        "In pure python, this can be written as:\n",
                        "\n",
                        "    def trapz_slow(x, y):\n",
                        "        area = 0.\n",
                        "        for i in range(1, len(x)):\n",
                        "            area += (x[i] - x[i-1]) * (y[i] + y[i-1])\n",
                        "        return area / 2"
                    ]
                },
                {
                    "cell_type": "markdown",
                    "metadata": {
                        "slideshow": {
                            "slide_type": "subslide"
                        }
                    },
                    "source": [
                        "### Exercises\n",
                        "\n",
                        "#### Part 1\n",
                        "\n",
                        "Create two arrays $x$ and $y$, where $x$ is a linearly spaced array in the interval $[0, 3]$ of length 10, and $y$ represents the function $f(x) = x^2$ sampled at $x$."
                    ]
                },
                {
                    "metadata": {
                        "slideshow": {
                            "slide_type": "skip"
                        }
                    },
                    "collapsed": false,
                    "outputs": [],
                    "cell_type": "code",
                    "input": [
                        "import numpy as np\n",
                        "x = np.linspace(0, 3, 10)\n",
                        "y = x ** 2\n",
                        "\n",
                        "print x\n",
                        "print y"
                    ],
                    "language": "python"
                },
                {
                    "cell_type": "markdown",
                    "metadata": {
                        "slideshow": {
                            "slide_type": "-"
                        }
                    },
                    "source": [
                        "#### Part 2\n",
                        "\n",
                        "Use indexing (not a for loop) to find the 9 values representing $y_{i}+y_{i-1}$ for $i$ between 1 and 10.\n",
                        "\n",
                        "Hint: What indexing would be needed to get all but the last element of the 1d array **``y``**. Similarly what indexing would be needed to get all but the first element of a 1d array."
                    ]
                },
                {
                    "metadata": {
                        "slideshow": {
                            "slide_type": "skip"
                        }
                    },
                    "collapsed": false,
                    "outputs": [],
                    "cell_type": "code",
                    "input": [
                        "y_roll_sum = y[:-1] + y[1:]\n",
                        "print y_roll_sum"
                    ],
                    "language": "python"
                },
                {
                    "cell_type": "markdown",
                    "metadata": {
                        "slideshow": {
                            "slide_type": "-"
                        }
                    },
                    "source": [
                        "#### Part 3\n",
                        "\n",
                        "Write a function `trapz(x, y)`, that applies the trapezoid formula to pre-computed values, where `x` and `y` are 1-d arrays. The function should not use a for loop."
                    ]
                },
                {
                    "metadata": {
                        "slideshow": {
                            "slide_type": "skip"
                        }
                    },
                    "collapsed": false,
                    "outputs": [],
                    "cell_type": "code",
                    "input": [
                        "def trapz(x, y):\n",
                        "    return 0.5 * ((x[1:] - x[:-1]) * (y[:-1] + y[1:])).sum()"
                    ],
                    "language": "python"
                },
                {
                    "cell_type": "markdown",
                    "metadata": {
                        "slideshow": {
                            "slide_type": "-"
                        }
                    },
                    "source": [
                        "#### Part 4\n",
                        "\n",
                        "Verify that your function is correct by using the arrays created in #1 as input to ``trapz``. Your answer should be a close approximation of $\\int_0^3 x^2$ which is $9$."
                    ]
                },
                {
                    "metadata": {
                        "slideshow": {
                            "slide_type": "skip"
                        }
                    },
                    "collapsed": false,
                    "outputs": [],
                    "cell_type": "code",
                    "input": [
                        "trapz(x, y)"
                    ],
                    "language": "python"
                },
                {
                    "cell_type": "markdown",
                    "metadata": {
                        "slideshow": {
                            "slide_type": "-"
                        }
                    },
                    "source": [
                        "#### Part 5 (extension)\n",
                        "\n",
                        "``scipy.integrate`` provides many common integration schemes.  Find a suitable function to perform the trapezoidal integration implemented above and check its result with your own:"
                    ]
                },
                {
                    "metadata": {
                        "slideshow": {
                            "slide_type": "skip"
                        }
                    },
                    "collapsed": false,
                    "outputs": [],
                    "cell_type": "code",
                    "input": [
                        "import scipy.integrate\n",
                        "scipy.integrate.trapz(y, x)"
                    ],
                    "language": "python"
                },
                {
                    "cell_type": "markdown",
                    "metadata": {
                        "slideshow": {
                            "slide_type": "-"
                        }
                    },
                    "source": [
                        "#### Part 6 (extension)\n",
                        "\n",
                        "Write a function  `trapzf(f, a, b, npts=100)` that accepts a function `f`, the endpoints `a` and `b` and the number of samples to take `npts`.  Sample the function uniformly at these\n",
                        "points and return the value of the integral.\n",
                        "\n",
                        "Use the trapzf function to identify the minimum number of sampling points needed to approximate the integral $\\int_0^3 x^2$ with an absolute error of $<=0.0001$. (A loop is necessary here)"
                    ]
                },
                {
                    "metadata": {
                        "slideshow": {
                            "slide_type": "skip"
                        }
                    },
                    "collapsed": false,
                    "outputs": [],
                    "cell_type": "code",
                    "input": [
                        "def trapzf(f, a, b, npts=100):\n",
                        "    x = np.linspace(a, b, npts)\n",
                        "    y = f(x)\n",
                        "    return trapz(x, y)\n",
                        "\n",
                        "n_samples = 1\n",
                        "f = lambda x: x**2\n",
                        "while np.abs(trapzf(f, 0, 3, npts=n_samples) - 9) > 0.0001:\n",
                        "    n_samples += 1\n",
                        "print 'Minimum samples for absolute error of less than or equal to 0.0001:', n_samples\n",
                        "    "
                    ],
                    "language": "python"
                }
            ],
            "metadata": {}
        }
    ],
    "nbformat_minor": 0,
    "nbformat": 3
}