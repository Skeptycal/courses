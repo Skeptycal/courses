{
    "worksheets": [
        {
            "metadata": {},
            "cells": [
                {
                    "source": [
                        "**Exercise 3:** By calling ``plot`` multiple times, create a single axes showing the line plots of $y=sin(x)$ and $y=cos(x)$ in the interval $[0, 2\\pi]$ with 200 linearly spaced $x$ samples."
                    ],
                    "metadata": {},
                    "cell_type": "markdown"
                },
                {
                    "outputs": [],
                    "cell_type": "code",
                    "metadata": {},
                    "input": [
                        "import matplotlib.pyplot as plt\n",
                        "import numpy as np\n",
                        "\n",
                        "x = np.linspace(0, 2* np.pi, 200)\n",
                        "plt.plot(x, np.sin(x), color='red')\n",
                        "plt.plot(x, np.cos(x), color='blue')\n",
                        "plt.show()"
                    ],
                    "language": "python",
                    "collapsed": false
                },
                {
                    "source": [
                        "**Exercise 3 continued:** Copy the answer from the previous task (plotting $y=sin(x)$ and $y=cos(x)$) and add the appropriate ``plt.subplot`` calls to create a figure with 2 rows of Axes artists, one showing $y=sin(x)$ and the other showing $y=cos(x)$."
                    ],
                    "metadata": {},
                    "cell_type": "markdown"
                },
                {
                    "outputs": [],
                    "cell_type": "code",
                    "metadata": {},
                    "input": [
                        "import matplotlib.pyplot as plt\n",
                        "import numpy as np\n",
                        "\n",
                        "x = np.linspace(0, 2* np.pi, 200)\n",
                        "plt.subplot(2, 1, 1)\n",
                        "plt.plot(x, np.sin(x), color='red')\n",
                        "plt.subplot(2, 1, 2)\n",
                        "plt.plot(x, np.cos(x), color='blue')\n",
                        "plt.show()"
                    ],
                    "language": "python",
                    "collapsed": false
                }
            ]
        }
    ],
    "nbformat": 3,
    "metadata": {
        "name": ""
    },
    "nbformat_minor": 0
}