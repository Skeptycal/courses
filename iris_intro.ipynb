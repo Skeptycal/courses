{
    "metadata": {
        "name": "",
        "signature": "sha256:9d155e3f02b89d1ec1a3ca3f1dc40e49a87e0e3b1185de6fd37482ee3e3b4e7f"
    },
    "nbformat_minor": 0,
    "worksheets": [
        {
            "metadata": {},
            "cells": [
                {
                    "metadata": {},
                    "source": [
                        "## An introduction to Iris"
                    ],
                    "cell_type": "markdown"
                },
                {
                    "language": "python",
                    "cell_type": "code",
                    "outputs": [],
                    "collapsed": false,
                    "metadata": {},
                    "input": [
                        "import iris\n",
                        "import numpy as np"
                    ]
                },
                {
                    "language": "python",
                    "cell_type": "code",
                    "outputs": [],
                    "collapsed": false,
                    "metadata": {},
                    "input": [
                        "print iris.__version__\n",
                        "print np.__version__"
                    ]
                },
                {
                    "metadata": {},
                    "source": [
                        "## Iris and the cube\n",
                        "\n",
                        "The top level object in Iris is called a cube. A cube contains data and metadata about a single phenomenon and is an implementation of the data model interpreted from the *Climate and Forecast (CF) Metadata Conventions*.\n",
                        "\n",
                        "Each cube has:\n",
                        "\n",
                        " * A data array (typically a numpy array).\n",
                        " * A \"name\", preferably a CF \"standard name\" to describe the phenomenon that the cube represents.\n",
                        " * A collection of coordinates to describe each of the dimensions of the data array. These coordinates are split into two types:\n",
                        "    * Dimensioned coordinates are numeric, monotonic and represent a single dimension of the data array. There may be only one dimensioned coordinate per data dimension.\n",
                        "    * Auxilliary coordinates can be of any type, including discrete values such as strings, and may represent more than one data dimension.\n",
                        "\n",
                        "A fuller explanation is available in the [Iris user guide](http://scitools.org.uk/iris/docs/latest/userguide/iris_cubes.html)."
                    ],
                    "cell_type": "markdown"
                },
                {
                    "metadata": {},
                    "source": [
                        "Let's take a simple example to demonstrate the cube concept.\n",
                        "\n",
                        "Suppose we have a ``(3, 2, 4)`` numpy array:\n",
                        "\n",
                        "![](files/images/multi_array.png)\n"
                    ],
                    "cell_type": "markdown"
                },
                {
                    "metadata": {},
                    "source": [
                        "Where dimensions 0, 1, and 2 have lengths 3, 2 and 4 respectively.\n",
                        "\n",
                        "The Iris cube to represent this data may consist of:\n",
                        "\n",
                        " * a standard name of \"air_temperature\" and units of \"kelvin\"\n",
                        "\n",
                        " * a data array of shape ``(3, 2, 4)``\n",
                        "\n",
                        " * a coordinate, mapping to dimension 0, consisting of:\n",
                        "     * a standard name of \"height\" and units of \"meters\"\n",
                        "     * an array of length 3 representing the 3 height points\n",
                        "     \n",
                        " * a coordinate, mapping to dimension 1, consisting of:\n",
                        "     * a standard name of \"latitude\" and units of \"degrees\"\n",
                        "     * an array of length 2 representing the 2 latitude points\n",
                        "     * a coordinate system such that the latitude points could be fully located on the globe\n",
                        "     \n",
                        " * a coordinate, mapping to dimension 2, consisting of:\n",
                        "     * a standard name of \"longitude\" and units of \"degrees\"\n",
                        "     * an array of length 4 representing the 4 longitude points\n",
                        "     * a coordinate system such that the longitude points could be fully located on the globe"
                    ],
                    "cell_type": "markdown"
                },
                {
                    "metadata": {},
                    "source": [
                        "Pictorially the cube has taken on more information than a simple array:\n",
                        "\n",
                        "![](files/images/multi_array_to_cube.png)"
                    ],
                    "cell_type": "markdown"
                },
                {
                    "metadata": {},
                    "source": [
                        "## Working with a cube"
                    ],
                    "cell_type": "markdown"
                },
                {
                    "metadata": {},
                    "source": [
                        "Whilst it is possible to construct a cube by hand, by far the more common approach to getting hold of a cube is to use the iris load function to access data which already exists in a file.\n",
                        "\n",
                        "\n"
                    ],
                    "cell_type": "markdown"
                },
                {
                    "language": "python",
                    "cell_type": "code",
                    "outputs": [],
                    "collapsed": false,
                    "metadata": {},
                    "input": [
                        "fname = iris.sample_data_path('uk_hires.pp')\n",
                        "cubes = iris.load(fname)\n",
                        "print cubes"
                    ]
                },
                {
                    "metadata": {},
                    "source": [
                        "We can see that we've loaded 2 cubes, one representing the \"surface_altitude\" and the other representing \"air_potential_temperature\". We can infer even more detail from this printout, for example, what are the dimensions and shape of the \"air_potential_temperature\" cube?\n",
                        "\n",
                        "Above we've printed the ``iris.cube.CubeList`` instance representing all of the cubes found in the given filename. However, we can see more detail by printing individual cubes:"
                    ],
                    "cell_type": "markdown"
                },
                {
                    "language": "python",
                    "cell_type": "code",
                    "outputs": [],
                    "collapsed": false,
                    "metadata": {},
                    "input": [
                        "air_pot_temp = cubes[0]\n",
                        "print air_pot_temp"
                    ]
                },
                {
                    "metadata": {},
                    "source": [
                        "We can dig even deeper and print individual coordinates:"
                    ],
                    "cell_type": "markdown"
                },
                {
                    "language": "python",
                    "cell_type": "code",
                    "outputs": [],
                    "collapsed": false,
                    "metadata": {},
                    "input": [
                        "print air_pot_temp.coord('model_level_number')"
                    ]
                },
                {
                    "metadata": {},
                    "source": [
                        "## Cube attributes"
                    ],
                    "cell_type": "markdown"
                },
                {
                    "language": "python",
                    "cell_type": "code",
                    "outputs": [],
                    "collapsed": false,
                    "metadata": {},
                    "input": [
                        "cube = iris.load_cube(iris.sample_data_path('A1B_north_america.nc'))\n",
                        "print cube"
                    ]
                },
                {
                    "metadata": {},
                    "source": [
                        "To access a cube's data array the **``data``** property exists, this is either a numpy array or in some cases a numpy masked array. It is very important to note that for most of the supported filetypes in Iris, the data isn't actually loaded for a cube until you request the cube's data via this property (either directly or indirectly). After you've accessed the data once, it is stored on the cube and thus wont be loaded again.\n",
                        "\n",
                        "To find the shape of a cube's data it is possible to do ``cube.data.shape`` or ``cube.data.ndim``, but this will trigger any unloaded data to be loaded, therefore ``shape`` and ``ndim`` are properties available directly on the cube which do not unnecessarily load data."
                    ],
                    "cell_type": "markdown"
                },
                {
                    "language": "python",
                    "cell_type": "code",
                    "outputs": [],
                    "collapsed": false,
                    "metadata": {},
                    "input": [
                        "print cube.shape\n",
                        "print cube.ndim\n",
                        "print type(cube.data)"
                    ]
                },
                {
                    "metadata": {},
                    "source": [
                        "The ``standard_name``, ``long_name`` and to an extent ``var_name`` are all attributes to describe the phenomenon that the cube represent. The **``name()``** method is a convenience which looks at the attributes in that order, returning the first non-empty string. To rename a cube, it is possible to set the attributes manually, but it is generally easier to use the **``rename()``** method.\n"
                    ],
                    "cell_type": "markdown"
                },
                {
                    "language": "python",
                    "cell_type": "code",
                    "outputs": [],
                    "collapsed": false,
                    "metadata": {},
                    "input": [
                        "print cube.standard_name\n",
                        "print cube.long_name\n",
                        "print cube.var_name\n",
                        "print cube.name()"
                    ]
                },
                {
                    "language": "python",
                    "cell_type": "code",
                    "outputs": [],
                    "collapsed": false,
                    "metadata": {},
                    "input": [
                        "cube.rename(\"A name that isn't a valid CF standard name\")"
                    ]
                },
                {
                    "language": "python",
                    "cell_type": "code",
                    "outputs": [],
                    "collapsed": false,
                    "metadata": {},
                    "input": [
                        "print cube.standard_name\n",
                        "print cube.long_name\n",
                        "print cube.var_name\n",
                        "print cube.name()"
                    ]
                },
                {
                    "metadata": {},
                    "source": [
                        "The **``units``** attribute on a cube tells us the units of the numbers held in the data array. We can manually change the units, or better, we can convert the cube to another unit using the **``convert_units``** method, which will automatically update the data array."
                    ],
                    "cell_type": "markdown"
                },
                {
                    "language": "python",
                    "cell_type": "code",
                    "outputs": [],
                    "collapsed": false,
                    "metadata": {},
                    "input": [
                        "print cube.units\n",
                        "print cube.data.max()\n",
                        "cube.convert_units('Celsius')\n",
                        "print cube.units\n",
                        "print cube.data.max()"
                    ]
                },
                {
                    "metadata": {},
                    "source": [
                        "A cube has a dictionary for extra general purpose attributes, which can be accessed with the ``cube.attributes`` attribute:"
                    ],
                    "cell_type": "markdown"
                },
                {
                    "language": "python",
                    "cell_type": "code",
                    "outputs": [],
                    "collapsed": false,
                    "metadata": {},
                    "input": [
                        "print cube.attributes\n",
                        "print cube.attributes['STASH']"
                    ]
                },
                {
                    "metadata": {},
                    "source": [
                        "A less frequently used attribute on a cube is its ``cell_methods``. The cell methods are a way to store information about the processing that has taken place on the cube."
                    ],
                    "cell_type": "markdown"
                },
                {
                    "language": "python",
                    "cell_type": "code",
                    "outputs": [],
                    "collapsed": false,
                    "metadata": {},
                    "input": [
                        "for cell_method in cube.cell_methods:\n",
                        "    print cell_method"
                    ]
                },
                {
                    "metadata": {},
                    "source": [
                        "In this case we can see that the cube is has been produced by taking a mean of forecasts sampled at 6 hourly intervals (we need to look at the time coordinate to identify any more information)."
                    ],
                    "cell_type": "markdown"
                },
                {
                    "metadata": {},
                    "source": [
                        "## Coordinates\n",
                        "\n",
                        "As we've seen, cubes need coordinate information to help us describe the underlying phenomenon. Typically a cube's coordinates are accessed with the **``coords``** or **``coord``** methods. The latter *must* return exactly one coordinate for the given parameter filters, where the former returns a list of matching coordinates, possibly of length 0.\n",
                        "\n",
                        "For example, to access the time coordinate, and print the first 4 times:"
                    ],
                    "cell_type": "markdown"
                },
                {
                    "language": "python",
                    "cell_type": "code",
                    "outputs": [],
                    "collapsed": false,
                    "metadata": {},
                    "input": [
                        "time = cube.coord('time')\n",
                        "print time[:4]"
                    ]
                },
                {
                    "metadata": {},
                    "source": [
                        "Along with the cell method from the previous section, we can now see that this cube represents the mean annual air temperature, sampled every 6 hours, starting in 1860."
                    ],
                    "cell_type": "markdown"
                },
                {
                    "metadata": {},
                    "source": [
                        "The coordinate interface is very similar to that of a cube. The attributes which exist on both cubes and coordinates are: ``standard_name``, ``long_name``, ``var_name``, ``units``, ``attributes`` and ``shape``. Similarly, the **``name()``**, **``rename()``** and **``convert_units()``** methods also exist on a coordinate."
                    ],
                    "cell_type": "markdown"
                },
                {
                    "metadata": {},
                    "source": [
                        "A coordinate does not have ``data``, instead it has ``points`` and ``bounds`` (``bounds`` may be ``None``). In Iris, time coordinates are currently represented as \"a number since an epoch\":"
                    ],
                    "cell_type": "markdown"
                },
                {
                    "language": "python",
                    "cell_type": "code",
                    "outputs": [],
                    "collapsed": false,
                    "metadata": {},
                    "input": [
                        "print repr(time.units)\n",
                        "print time.points[:4]\n",
                        "print time.bounds[:4]"
                    ]
                },
                {
                    "metadata": {},
                    "source": [
                        "These numbers can be converted to datetime objects with the unit's ``num2date`` method. Dates can be converted back again with the ``date2num`` method:"
                    ],
                    "cell_type": "markdown"
                },
                {
                    "language": "python",
                    "cell_type": "code",
                    "outputs": [],
                    "collapsed": false,
                    "metadata": {},
                    "input": [
                        "import datetime\n",
                        "\n",
                        "print time.units.num2date(time.points[:4])\n",
                        "print time.units.date2num(datetime.datetime(1970, 2, 1))"
                    ]
                },
                {
                    "metadata": {},
                    "source": [
                        "Another important attribute on a coordinate is its coordinate system. Coordinate systems may be ``None`` for trivial coordinates, but particularly for spatial coordinates, they may be complex definitions of things such as the projection, ellipse and/or datum."
                    ],
                    "cell_type": "markdown"
                },
                {
                    "language": "python",
                    "cell_type": "code",
                    "outputs": [],
                    "collapsed": false,
                    "metadata": {},
                    "input": [
                        "lat = cube.coord('latitude')\n",
                        "print lat.coord_system"
                    ]
                },
                {
                    "metadata": {},
                    "source": [
                        "In this case, the latitude's coordinate system is a simple geographic latitude on a spherical globe of radius 6371229 (meters)."
                    ],
                    "cell_type": "markdown"
                },
                {
                    "metadata": {},
                    "source": [
                        "Sometimes it is desirable to add bounds to a coordinate which doesn't have any. This is often the case for creating \"block\" type plots where a coordinate should be able to represent an interval of values, rather than a single point. The **``guess_bounds``** method on a coordinate is useful in this regard. For example, the latitude coordinate previously obtained does not have bounds, but we can either set some manually, or use the ``guess_bounds`` method:"
                    ],
                    "cell_type": "markdown"
                },
                {
                    "language": "python",
                    "cell_type": "code",
                    "outputs": [],
                    "collapsed": false,
                    "metadata": {},
                    "input": [
                        "print lat.points[:4]\n",
                        "print lat.bounds\n",
                        "if lat.bounds is None:\n",
                        "    lat.guess_bounds()\n",
                        "print lat.bounds[:4]"
                    ]
                },
                {
                    "metadata": {},
                    "source": [
                        "## Exercise 1:\n",
                        "\n",
                        "1\\. Using the file in ``iris.sample_data_path('atlantic_profiles.nc')`` load the data and print the cube list. Store these cubes in a variable called cubes."
                    ],
                    "cell_type": "markdown"
                },
                {
                    "language": "python",
                    "cell_type": "code",
                    "outputs": [],
                    "collapsed": false,
                    "metadata": {},
                    "input": []
                },
                {
                    "metadata": {},
                    "source": [
                        "2\\. Loop through each of the cubes (e.g. ``for cube in cubes``) and print the standard name of each."
                    ],
                    "cell_type": "markdown"
                },
                {
                    "language": "python",
                    "cell_type": "code",
                    "outputs": [],
                    "collapsed": false,
                    "metadata": {},
                    "input": []
                },
                {
                    "metadata": {},
                    "source": [
                        "3\\. Extract the \"sea_water_potential_temperature\" cube. Print the minimum, maximum, mean and standard deviation of the cube's data."
                    ],
                    "cell_type": "markdown"
                },
                {
                    "language": "python",
                    "cell_type": "code",
                    "outputs": [],
                    "collapsed": false,
                    "metadata": {},
                    "input": []
                },
                {
                    "metadata": {},
                    "source": [
                        "4\\. Print the attributes of the cube."
                    ],
                    "cell_type": "markdown"
                },
                {
                    "language": "python",
                    "cell_type": "code",
                    "outputs": [],
                    "collapsed": false,
                    "metadata": {},
                    "input": []
                },
                {
                    "metadata": {},
                    "source": [
                        "5\\. Print the names of all coordinates on the cube. (Hint: Remember the cube.coords method without any keywords will give us all of the cube's coordinates)"
                    ],
                    "cell_type": "markdown"
                },
                {
                    "language": "python",
                    "cell_type": "code",
                    "outputs": [],
                    "collapsed": false,
                    "metadata": {},
                    "input": []
                },
                {
                    "metadata": {},
                    "source": [
                        "6\\. Get hold of the \"latitude\" coordinate on the cube. Identify whether the cube has bounds. Print the minimum and maximum latitude points in this cube."
                    ],
                    "cell_type": "markdown"
                },
                {
                    "language": "python",
                    "cell_type": "code",
                    "outputs": [],
                    "collapsed": false,
                    "metadata": {},
                    "input": []
                },
                {
                    "metadata": {},
                    "source": [
                        "## Loading data into Iris"
                    ],
                    "cell_type": "markdown"
                },
                {
                    "metadata": {},
                    "source": [
                        "We've already seen the basic ``load`` function, but we can also control which cubes are actually loaded with *constraints*. The simplest constraint is just a string, which filters cubes based on their name:"
                    ],
                    "cell_type": "markdown"
                },
                {
                    "language": "python",
                    "cell_type": "code",
                    "outputs": [],
                    "collapsed": false,
                    "metadata": {},
                    "input": [
                        "fname = iris.sample_data_path('uk_hires.pp')\n",
                        "print iris.load(fname, 'air_potential_temperature')"
                    ]
                },
                {
                    "metadata": {},
                    "source": [
                        "#### Note on sample_data_path:\n",
                        "\n",
                        "Throughout this course we will make use of the sample data that Iris provides. The function ``iris.sample_data_path`` returns the appropriate path to the file in the iris sample data collection. A common mistake for Iris users is to use the ``sample_data_path`` function to access data which is not part of Iris's sample data collection - this is bad practice and is unlikely to work in the future.\n",
                        "\n",
                        "**Exercise 2:**\n",
                        "Print the result of ``iris.sample_data_path('uk_hires.pp')`` to verify that it returns a string pointing to a file on your system. Use this string directly in the call to ``iris.load`` and confirm the result is the same as in the previous example e.g.:\n",
                        "\n",
                        "    print iris.load('/path/to/iris/sampledata/uk_hires.pp', 'air_potential_temperature')\n"
                    ],
                    "cell_type": "markdown"
                },
                {
                    "metadata": {},
                    "source": [
                        "### The three load functions: load, load_cube and load_cubes\n",
                        "\n",
                        "There are three main load functions in iris: ``load``, ``load_cube`` and ``load_cubes``.\n",
                        "\n",
                        "1. **load** is a general purpose loading function. Typically this is where all data analysis will start, before more loading is refined with the more controlled loading from the other two functions.\n",
                        "2. **load_cube** returns a single cube from the given source(s) and constraint. There will be exactly one cube, or an exception will be raised.\n",
                        "3. **load_cubes** returns a list of cubes from the given sources(s) and constraint(s). There will be exactly one cube per constraint, or an exception will be raised.\n",
                        "\n",
                        "\n",
                        "Note: ``load_cube`` is a special case of ``load_cubes`` which can be seen with:"
                    ],
                    "cell_type": "markdown"
                },
                {
                    "language": "python",
                    "cell_type": "code",
                    "outputs": [],
                    "collapsed": false,
                    "metadata": {},
                    "input": [
                        "c1, = iris.load(fname, 'surface_altitude')\n",
                        "c2 = iris.load_cube(fname, 'surface_altitude')\n",
                        "c3, = iris.load_cubes(fname, 'surface_altitude')\n",
                        "c1 == c2 == c3"
                    ]
                },
                {
                    "metadata": {},
                    "source": [
                        "In general, it is a good idea to make use of the ``load_cube``/``load_cubes`` functions rather than the generic ``load`` function in non-exploratory code. Doing so makes your code more resilient to changes in the data source, often results in more readable/maintainable code, and in combination with well defined constraints, often leads to improve load performance."
                    ],
                    "cell_type": "markdown"
                },
                {
                    "metadata": {},
                    "source": [
                        "The load functions all accept a list of filenames to load, and any of the filenames can be \"glob\" patterns (http://docs.python.org/2/library/glob.html).\n",
                        "\n",
                        "**Exercise 2 continued:** Read in the files found at **``iris.sample_data_path('GloSea4', 'ensemble_010.pp')``** and\n",
                        "**``iris.sample_data_path('GloSea4', 'ensemble_011.pp')``** using a single load call. Do this by:\n",
                        "\n",
                        "1\\. providing a list of the two filenames."
                    ],
                    "cell_type": "markdown"
                },
                {
                    "language": "python",
                    "cell_type": "code",
                    "outputs": [],
                    "collapsed": false,
                    "metadata": {},
                    "input": []
                },
                {
                    "metadata": {},
                    "source": [
                        "2\\. providing a suitable glob pattern. (Noticing that **``iris.load(iris.sample_data_path('GloSea4', 'ensemble_01*.pp'))``** picks up too many files)"
                    ],
                    "cell_type": "markdown"
                },
                {
                    "language": "python",
                    "cell_type": "code",
                    "outputs": [],
                    "collapsed": false,
                    "metadata": {},
                    "input": []
                },
                {
                    "metadata": {},
                    "source": [
                        "## Constraints\n",
                        "\n",
                        "Iris's constraints mechanism provides a powerful way to filter a subset of data from a larger collection. We've already seen that constraints can be used at load time to return data of interest from a file, but we can also apply constraints to a single cube, or a list of cubes, using their respective ``extract`` methods:\n",
                        "\n"
                    ],
                    "cell_type": "markdown"
                },
                {
                    "language": "python",
                    "cell_type": "code",
                    "outputs": [],
                    "collapsed": false,
                    "metadata": {},
                    "input": [
                        "fname = iris.sample_data_path('uk_hires.pp')\n",
                        "cubes = iris.load(fname)\n",
                        "print cubes.extract('air_potential_temperature')"
                    ]
                },
                {
                    "metadata": {},
                    "source": [
                        "The simplest constraint, namely a string which matches a cube's name, is conveniently converted into an actual ``iris.Constraint`` instance wherever needed. However, we could construct this constraint manually and compare with the previous result:"
                    ],
                    "cell_type": "markdown"
                },
                {
                    "language": "python",
                    "cell_type": "code",
                    "outputs": [],
                    "collapsed": false,
                    "metadata": {},
                    "input": [
                        "pot_temperature_constraint = iris.Constraint('air_potential_temperature')\n",
                        "print cubes.extract(pot_temperature_constraint)"
                    ]
                },
                {
                    "metadata": {},
                    "source": [
                        "The Constraint constructor also takes arbitrary keywords to constrain coordinate values. For example, to extract model level number 10 from the air potential temperature cube:"
                    ],
                    "cell_type": "markdown"
                },
                {
                    "language": "python",
                    "cell_type": "code",
                    "outputs": [],
                    "collapsed": false,
                    "metadata": {},
                    "input": [
                        "pot_temperature_constraint = iris.Constraint('air_potential_temperature',\n",
                        "                                             model_level_number=10)\n",
                        "print cubes.extract(pot_temperature_constraint)"
                    ]
                },
                {
                    "metadata": {},
                    "source": [
                        "We can pass a list of possible values, and even combine two constraints with ``&``:"
                    ],
                    "cell_type": "markdown"
                },
                {
                    "language": "python",
                    "cell_type": "code",
                    "outputs": [],
                    "collapsed": false,
                    "metadata": {},
                    "input": [
                        "print cubes.extract('air_potential_temperature'\n",
                        "                    & iris.Constraint(model_level_number=[4, 10]))"
                    ]
                },
                {
                    "metadata": {},
                    "source": [
                        "We can define arbitrary functions which operate on each cell of a coordinate. This is a common thing to do for floating point coordinates, where exact equality is non-trivial."
                    ],
                    "cell_type": "markdown"
                },
                {
                    "language": "python",
                    "cell_type": "code",
                    "outputs": [],
                    "collapsed": false,
                    "metadata": {},
                    "input": [
                        "def less_than_10(cell):\n",
                        "    \"\"\"Return True for values which are less than 10.\"\"\"\n",
                        "    return cell < 10\n",
                        "\n",
                        "print cubes.extract(iris.Constraint('air_potential_temperature',\n",
                        "                                    model_level_number=less_than_10))"
                    ]
                },
                {
                    "metadata": {},
                    "source": [
                        "Because Iris cells represent both point and bound, cell comparison can sometimes be counter-intuitive:"
                    ],
                    "cell_type": "markdown"
                },
                {
                    "language": "python",
                    "cell_type": "code",
                    "outputs": [],
                    "collapsed": false,
                    "metadata": {},
                    "input": [
                        "def cell_comparison(cell, value):\n",
                        "    print 'cell > {0!r} is {1}'.format(value, cell > value)\n",
                        "    print 'cell >= {0!r} is {1}'.format(value, cell >= value)\n",
                        "    print 'cell == {0!r} is {1}'.format(value, cell == value)\n",
                        "    print 'cell <= {0!r} is {1}'.format(value, cell <= value)\n",
                        "    print 'cell < {0!r} is {1}'.format(value, cell < value)\n",
                        "\n",
                        "cell = iris.coords.Cell(point=10, bound=[8, 12])\n",
                        "cell_comparison(cell, 12)"
                    ]
                },
                {
                    "metadata": {},
                    "source": [
                        "If you want full control of how cell comparison is taking place, you can always compare with another cell, or just access the cell's individual **``point``** or **``bound``**:"
                    ],
                    "cell_type": "markdown"
                },
                {
                    "language": "python",
                    "cell_type": "code",
                    "outputs": [],
                    "collapsed": false,
                    "metadata": {},
                    "input": [
                        "cell_1 = iris.coords.Cell(point=10, bound=[8, 12])\n",
                        "cell_2 = iris.coords.Cell(point=11, bound=None)\n",
                        "\n",
                        "cell_comparison(cell_1, 11)\n",
                        "print\n",
                        "cell_comparison(cell_1, cell_2)"
                    ]
                },
                {
                    "metadata": {},
                    "source": [
                        "It is common to want to build a constraint for time. With Iris < v1.6, because of the way that time coordinate have been implemented, it was harder to build time constraints than we would like (as you need to know the units that your time coordinate is in. For example, it could be \"hours since 2000-01-01\", \"days since 1970-01-01\" or any other number of reference epoch's and units).\n",
                        "\n",
                        "In practice this meant we needed to get hold of the \"time\" coordinate *before* we could build the constraint."
                    ],
                    "cell_type": "markdown"
                },
                {
                    "language": "python",
                    "cell_type": "code",
                    "outputs": [],
                    "collapsed": false,
                    "metadata": {},
                    "input": [
                        "import datetime\n",
                        "\n",
                        "air_pot_temp = cubes.extract('air_potential_temperature', strict=True)\n",
                        "\n",
                        "time_coord = air_pot_temp.coord('time')\n",
                        "date = datetime.datetime(2009, 11, 19, 11, 0)\n",
                        "date_in_time_units = time_coord.units.date2num(date)\n",
                        "print '{} == {} {}'.format(date, date_in_time_units, time_coord.units)"
                    ]
                },
                {
                    "metadata": {},
                    "source": [
                        "Once we have the date in a serialised/\"time-unit since epoch\" form, we can use that value as the constraint value:"
                    ],
                    "cell_type": "markdown"
                },
                {
                    "language": "python",
                    "cell_type": "code",
                    "outputs": [],
                    "collapsed": false,
                    "metadata": {},
                    "input": [
                        "time_constraint = iris.Constraint(time=lambda c: c >= date_in_time_units)\n",
                        "print air_pot_temp.extract(time_constraint).summary(True)"
                    ]
                },
                {
                    "metadata": {},
                    "source": [
                        "However, since v1.6 this has been made simpler by the ability to compare against cells containing datetimes. The functionality can be enabled **globally within the session** (and will be enabled by default in future release of iris) with:"
                    ],
                    "cell_type": "markdown"
                },
                {
                    "language": "python",
                    "cell_type": "code",
                    "outputs": [],
                    "collapsed": false,
                    "metadata": {},
                    "input": [
                        "iris.FUTURE.cell_datetime_objects = True"
                    ]
                },
                {
                    "metadata": {},
                    "source": [
                        "With this set, it is now possible to do the same constraint by simply:"
                    ],
                    "cell_type": "markdown"
                },
                {
                    "language": "python",
                    "cell_type": "code",
                    "outputs": [],
                    "collapsed": false,
                    "metadata": {},
                    "input": [
                        "time_constraint = iris.Constraint(\n",
                        "    time=lambda c: c >= datetime.datetime(2009, 11, 19, 11, 0))\n",
                        "print air_pot_temp.extract(time_constraint).summary(True)"
                    ]
                },
                {
                    "metadata": {},
                    "source": [
                        "There are currently still some limitations however. For example, it is not yet possible to do cell based datetime comparisons when the datetime is from anything other than a Gregorian calendar (e.g. such as the 360-day calendar often used in climate models). When this is the case however, we can always access individual components of the datetime and do comparisons on those:"
                    ],
                    "cell_type": "markdown"
                },
                {
                    "language": "python",
                    "cell_type": "code",
                    "outputs": [],
                    "collapsed": false,
                    "metadata": {},
                    "input": [
                        "time_constraint = iris.Constraint(time=lambda c: c.point.hour == 11)\n",
                        "print air_pot_temp.extract(time_constraint).summary(True)"
                    ]
                },
                {
                    "metadata": {},
                    "source": [
                        "Further functionality has been added to isolate individual components of a datetime via the [PartialDateTime](http://scitools.org.uk/iris/docs/latest/iris/iris/time.html?highlight=partial#iris.time.PartialDateTime) class. In this case we can extract the timestep at the 11th hour with:"
                    ],
                    "cell_type": "markdown"
                },
                {
                    "language": "python",
                    "cell_type": "code",
                    "outputs": [],
                    "collapsed": false,
                    "metadata": {},
                    "input": [
                        "from iris.time import PartialDateTime\n",
                        "eleventh_hour = iris.Constraint(time=PartialDateTime(hour=11))\n",
                        "print air_pot_temp.extract(eleventh_hour).summary(True)\n",
                        "print air_pot_temp.extract(eleventh_hour).coord('time')"
                    ]
                },
                {
                    "metadata": {},
                    "source": [
                        "**Exercise 3:**\n",
                        "\n",
                        "1\\. The following function tells us whether or not a cube has cell methods:\n",
                        "\n",
                        "    def has_cell_methods(cube):\n",
                        "        return len(cube.cell_methods) > 0\n",
                        "\n",
                        "With the cubes loaded from ``[iris.sample_data_path('A1B_north_america.nc'), iris.sample_data_path('uk_hires.pp')]`` use the CubeList's **``extract``** method to filter only the cubes which have cell methods. (Hint: Look at the ``iris.Constraint`` documentation for the **cube_func** keyword). You should find that the 3 cubes are whittled down to just 1."
                    ],
                    "cell_type": "markdown"
                },
                {
                    "language": "python",
                    "cell_type": "code",
                    "outputs": [],
                    "collapsed": false,
                    "metadata": {},
                    "input": []
                },
                {
                    "metadata": {},
                    "source": [
                        "2\\. Using the file found at ``iris.sample_data_path('A1B_north_america.nc')`` filter the cube, using constraints, such that only data between 1860 and 1980 remains (hint: This data has a 360-day calendar with yearly data from 1860 to 2100, so we will need to access the individual components of the cell point's datetime, to return a time dimension of length 120)."
                    ],
                    "cell_type": "markdown"
                },
                {
                    "language": "python",
                    "cell_type": "code",
                    "outputs": [],
                    "collapsed": false,
                    "metadata": {},
                    "input": []
                },
                {
                    "metadata": {},
                    "source": [
                        "## Saving cubes\n",
                        "\n",
                        "The ``iris.save`` function provides a convenient interface to save Cube and CubeList instances.\n",
                        "\n",
                        "To save some cubes to a NetCDF file:"
                    ],
                    "cell_type": "markdown"
                },
                {
                    "language": "python",
                    "cell_type": "code",
                    "outputs": [],
                    "collapsed": false,
                    "metadata": {},
                    "input": [
                        "fname = iris.sample_data_path('uk_hires.pp')\n",
                        "cubes = iris.load(fname)\n",
                        "iris.save(cubes, 'saved_cubes.nc')"
                    ]
                },
                {
                    "language": "python",
                    "cell_type": "code",
                    "outputs": [],
                    "collapsed": false,
                    "metadata": {},
                    "input": [
                        "!ncdump -h saved_cubes.nc | head -n 20\n",
                        "!rm saved_cubes.nc"
                    ]
                },
                {
                    "metadata": {},
                    "source": [
                        "Extra keywords can be passed to specific fileformat savers.\n",
                        "\n",
                        "**Task:** Go to the iris reference documentation for ``iris.save``. Which fileformats can currently be saved to? Which keywords are accepted to ``iris.save`` when saving a PP file?"
                    ],
                    "cell_type": "markdown"
                },
                {
                    "metadata": {},
                    "source": [
                        "## Merging\n",
                        "\n",
                        "When Iris loads data it tries to reduce the number of cubes returned by collecting together multiple fields with\n",
                        "shared metadata into a single multidimensional cube. In Iris, this is known as merging.\n",
                        "\n",
                        "In order to merge two cubes, they must be identical in everything but a scalar dimension which goes on to become a new data dimension.\n",
                        "\n",
                        "\n",
                        "The ``iris.load_raw`` function can be used as **a diagnostic tool** to identify the individual \"fields\" that Iris identifies in a given set of filenames before any merge takes place:"
                    ],
                    "cell_type": "markdown"
                },
                {
                    "language": "python",
                    "cell_type": "code",
                    "outputs": [],
                    "collapsed": false,
                    "metadata": {},
                    "input": [
                        "fname = iris.sample_data_path('GloSea4', 'ensemble_008.pp')\n",
                        "raw_cubes = iris.load_raw(fname)\n",
                        "\n",
                        "print len(raw_cubes)"
                    ]
                },
                {
                    "metadata": {},
                    "source": [
                        "When we look in detail at these cubes, we find that they are identical in every coordinate except for the scalar **forecast_period** and **time** coordinates:"
                    ],
                    "cell_type": "markdown"
                },
                {
                    "language": "python",
                    "cell_type": "code",
                    "outputs": [],
                    "collapsed": false,
                    "metadata": {},
                    "input": [
                        "print raw_cubes[0]\n",
                        "print\n",
                        "print raw_cubes[1]"
                    ]
                },
                {
                    "metadata": {},
                    "source": [
                        "Any CubeList can be merged with the ``merge`` method, and the resulting CubeList from **load_raw** is no different.\n",
                        "The ``merge`` method *always* returns another CubeList:"
                    ],
                    "cell_type": "markdown"
                },
                {
                    "language": "python",
                    "cell_type": "code",
                    "outputs": [],
                    "collapsed": false,
                    "metadata": {},
                    "input": [
                        "merged_cube, = raw_cubes.merge()\n",
                        "print merged_cube"
                    ]
                },
                {
                    "metadata": {},
                    "source": [
                        "When we look in more detail, we can see that the time coordinate has become a new dimension, as well as gaining another **forecast_period** auxiliary coordinate:"
                    ],
                    "cell_type": "markdown"
                },
                {
                    "language": "python",
                    "cell_type": "code",
                    "outputs": [],
                    "collapsed": false,
                    "metadata": {},
                    "input": [
                        "print merged_cube.coord('time')\n",
                        "print merged_cube.coord('forecast_period')"
                    ]
                },
                {
                    "metadata": {},
                    "source": [
                        "### Identifying merge problems\n",
                        "\n",
                        "In order to avoid Iris' merge making often inapropriate assumptions about incoming data, Iris' merge is strict with regards to the uniformity of the incoming cubes.\n",
                        "\n",
                        "For example, if we load the fields from two ensemble members from the GloSea4 model sample data, we see we have 12 fields before any merge takes place:"
                    ],
                    "cell_type": "markdown"
                },
                {
                    "language": "python",
                    "cell_type": "code",
                    "outputs": [],
                    "collapsed": false,
                    "metadata": {},
                    "input": [
                        "fname = iris.sample_data_path('GloSea4', 'ensemble_00[34].pp')\n",
                        "cubes = iris.load_raw(fname, 'surface_temperature')\n",
                        "print len(cubes)"
                    ]
                },
                {
                    "metadata": {},
                    "source": [
                        "If we try to merge these 12 cubes we get 2 cubes rather than one:"
                    ],
                    "cell_type": "markdown"
                },
                {
                    "language": "python",
                    "cell_type": "code",
                    "outputs": [],
                    "collapsed": false,
                    "metadata": {},
                    "input": [
                        "incomplete_cubes = cubes.merge(unique=False)\n",
                        "print incomplete_cubes"
                    ]
                },
                {
                    "metadata": {},
                    "source": [
                        "When we look in more detail at these two cubes, what is different between the two? (Hint: One value changes, another is completely missing)"
                    ],
                    "cell_type": "markdown"
                },
                {
                    "language": "python",
                    "cell_type": "code",
                    "outputs": [],
                    "collapsed": false,
                    "metadata": {},
                    "input": [
                        "print incomplete_cubes[0]\n",
                        "print '--' * 50\n",
                        "print incomplete_cubes[1]"
                    ]
                },
                {
                    "metadata": {},
                    "source": [
                        "By adding the missing coordinate, we can trigger a merge of the 12 cubes into a single cube, as expected:"
                    ],
                    "cell_type": "markdown"
                },
                {
                    "language": "python",
                    "cell_type": "code",
                    "outputs": [],
                    "collapsed": false,
                    "metadata": {},
                    "input": [
                        "for cube in cubes:\n",
                        "    if not cube.coords('realization'):\n",
                        "        cube.add_aux_coord(iris.coords.DimCoord(np.int32(3),\n",
                        "                                                'realization'))\n",
                        "\n",
                        "merged_cubes = cubes.merge()\n",
                        "print merged_cubes"
                    ]
                },
                {
                    "metadata": {},
                    "source": [
                        "Iris v1.7 and beyond include functionality to simplify the identification process for causes of failed merges. The ``merge_cube`` method of a CubeList is expecting the list to contain only cubes which are expected to be mergable, and if they do not merge to a single cube, a helpful exception will be raised. For instance,\n",
                        "\n",
                        "```\n",
                        "   >>> cubes.merge_cube()\n",
                        "   Traceback (most recent call last):\n",
                        "     File \"<stdin>\", line 1, in <module>\n",
                        "     ...\n",
                        "   iris.exceptions.MergeError: failed to merge into a single cube.\n",
                        "     Coordinates in cube.aux_coords (scalar) differ: realization.\n",
                        "```"
                    ],
                    "cell_type": "markdown"
                },
                {
                    "metadata": {},
                    "source": [
                        "### Exercise 4\n",
                        "\n",
                        "The following exercise is designed to give you experience of solving issues which prevent a merge from taking place.\n",
                        "The output from ``merge_cube`` is included to help with identification, and once a fix has been identified, ``raw_cubes.merge()`` should result in a CubeList containing a single cube:\n",
                        "\n",
                        "The first exercise is completed below:"
                    ],
                    "cell_type": "markdown"
                },
                {
                    "metadata": {},
                    "source": [
                        "**1\\.** Identify and resolve the issue preventing ``resources/merge_exercise.1.*.nc`` from merging.\n",
                        "\n",
                        "    >>> raw_cubes = iris.load_raw('resources/merge_exercise.1.*.nc')\n",
                        "    >>> raw_cubes.merge_cube()\n",
                        "    Traceback (most recent call last):\n",
                        "    ...\n",
                        "    iris.exceptions.MergeError: failed to merge into a single cube.\n",
                        "      cube.attributes keys differ: 'History'\n"
                    ],
                    "cell_type": "markdown"
                },
                {
                    "language": "python",
                    "cell_type": "code",
                    "outputs": [],
                    "collapsed": false,
                    "metadata": {},
                    "input": [
                        "raw_cubes = iris.load_raw('resources/merge_exercise.1.*.nc')\n",
                        "\n",
                        "# Print the attributes, clearly one is different.\n",
                        "for cube in raw_cubes:\n",
                        "    print cube.attributes\n",
                        "\n",
                        "# Remove the history attribute from the first cube.\n",
                        "del raw_cubes[0].attributes['History']\n",
                        "\n",
                        "# Check that this has meant that a merge now results in a single cube.\n",
                        "print raw_cubes.merge()"
                    ]
                },
                {
                    "metadata": {},
                    "source": [
                        "**2\\.** Identify and resolve the issue preventing ``resources/merge_exercise.2.*.nc`` from merging.\n",
                        "\n",
                        "    >>> raw_cubes = iris.load_raw('resources/merge_exercise.2.*.nc')\n",
                        "    >>> raw_cubes.merge_cube()\n",
                        "    Traceback (most recent call last):\n",
                        "      iris.exceptions.MergeError: failed to merge into a single cube.\n",
                        "      cube.long_name differs: u'The first timestep' != u'The second timestep'"
                    ],
                    "cell_type": "markdown"
                },
                {
                    "language": "python",
                    "cell_type": "code",
                    "outputs": [],
                    "collapsed": false,
                    "metadata": {},
                    "input": []
                },
                {
                    "metadata": {},
                    "source": [
                        "**3\\.** (extension) Identify and resolve the issue preventing ``resources/merge_exercise.4.*.nc`` from merging.\n",
                        "\n",
                        "    >>> raw_cubes = iris.load_raw('resources/merge_exercise.4.*.nc')\n",
                        "    >>> raw_cubes.merge_cube()\n",
                        "    Traceback (most recent call last):\n",
                        "      iris.exceptions.MergeError: failed to merge into a single cube.\n",
                        "      cube data dtype differs: float32 != float64"
                    ],
                    "cell_type": "markdown"
                },
                {
                    "language": "python",
                    "cell_type": "code",
                    "outputs": [],
                    "collapsed": false,
                    "metadata": {},
                    "input": []
                },
                {
                    "metadata": {},
                    "source": [
                        "**4\\.** (extension) Identify and resolve the issue preventing ``resources/merge_exercise.5.*.nc`` from merging (hint: Cubes can be indexed like numpy arrays).\n",
                        "\n",
                        "    >>> raw_cubes = iris.load_raw('resources/merge_exercise.5.*.nc')\n",
                        "    >>> raw_cubes.merge_cube()\n",
                        "    Traceback (most recent call last):\n",
                        "      iris.exceptions.MergeError: failed to merge into a single cube.\n",
                        "      cube.shape differs: (100, 100) != (1, 100, 100)"
                    ],
                    "cell_type": "markdown"
                },
                {
                    "language": "python",
                    "cell_type": "code",
                    "outputs": [],
                    "collapsed": false,
                    "metadata": {},
                    "input": []
                },
                {
                    "metadata": {},
                    "source": [
                        "## Load callbacks\n",
                        "\n",
                        "Sometimes important data exists in a filename rather than in the file itself, and it is desirable for it to become part of the cube's metadata.\n",
                        "For example, some early GloSea4 model runs recorded the \"ensemble member number\" (or \"realization\" in CF terms) in the filename, but not in actual PP metadata itself. As a result, loading the data yielded 2 cubes, rather than a single, fully merged, cube."
                    ],
                    "cell_type": "markdown"
                },
                {
                    "language": "python",
                    "cell_type": "code",
                    "outputs": [],
                    "collapsed": false,
                    "metadata": {},
                    "input": [
                        "fname = iris.sample_data_path('GloSea4', 'ensemble_00[34].pp')\n",
                        "for cube in iris.load(fname, 'surface_temperature'):\n",
                        "    print cube, '\\n-----'"
                    ]
                },
                {
                    "metadata": {},
                    "source": [
                        "To resolve this we can define a function which gets called during the load process which takes a cube, a PP field and a filename, and makes the necessary adjustments to include a \"realization\" coordinate. We pass this function to load, and the result is a successfully merged cube:"
                    ],
                    "cell_type": "markdown"
                },
                {
                    "language": "python",
                    "cell_type": "code",
                    "outputs": [],
                    "collapsed": false,
                    "metadata": {},
                    "input": [
                        "import os\n",
                        "def realization_callback(cube, field, fname):\n",
                        "    basename = os.path.basename(fname)\n",
                        "    if not cube.coords('realization') and basename.startswith('ensemble_'):\n",
                        "        cube.add_aux_coord(iris.coords.DimCoord(np.int32(basename[-6:-3]), 'realization'))\n",
                        "\n",
                        "print iris.load_cube(fname, callback=realization_callback)"
                    ]
                },
                {
                    "metadata": {},
                    "source": [
                        "## Indexing\n",
                        "\n",
                        "Cubes can be indexed in a familiar manner to that of numpy arrays:"
                    ],
                    "cell_type": "markdown"
                },
                {
                    "language": "python",
                    "cell_type": "code",
                    "outputs": [],
                    "collapsed": false,
                    "metadata": {},
                    "input": [
                        "fname = iris.sample_data_path('uk_hires.pp')\n",
                        "cube = iris.load_cube(fname, 'air_potential_temperature')\n",
                        "print cube.summary(shorten=True)"
                    ]
                },
                {
                    "language": "python",
                    "cell_type": "code",
                    "outputs": [],
                    "collapsed": false,
                    "metadata": {},
                    "input": [
                        "subcube = cube[..., ::2, 15:35, :10]\n",
                        "subcube.summary(shorten=True)"
                    ]
                },
                {
                    "metadata": {},
                    "source": [
                        "Note: the result of indexing a cube is *always* a copy and never a *view* on the original data."
                    ],
                    "cell_type": "markdown"
                },
                {
                    "metadata": {},
                    "source": [
                        "## Cube aggregation/collapsing\n",
                        "\n",
                        "Many standard univariate aggregations exist in Iris (and it is relatively easy to create your own, if the one you want doesn't exist)."
                    ],
                    "cell_type": "markdown"
                },
                {
                    "language": "python",
                    "cell_type": "code",
                    "outputs": [],
                    "collapsed": false,
                    "metadata": {},
                    "input": [
                        "fname = iris.sample_data_path('uk_hires.pp')\n",
                        "cube = iris.load_cube(fname, 'air_potential_temperature')\n",
                        "print cube.summary(True)"
                    ]
                },
                {
                    "metadata": {},
                    "source": [
                        "To take the vertical mean of this cube:"
                    ],
                    "cell_type": "markdown"
                },
                {
                    "language": "python",
                    "cell_type": "code",
                    "outputs": [],
                    "collapsed": false,
                    "metadata": {},
                    "input": [
                        "print cube.collapsed('model_level_number', iris.analysis.MEAN)"
                    ]
                },
                {
                    "metadata": {},
                    "source": [
                        "Some of the aggregators accept ``weights`` as a keyword. The supplied weights must have the same shape as the cube (there is currently no broadcasting being done) but there is an iris utility function to make this easier:"
                    ],
                    "cell_type": "markdown"
                },
                {
                    "language": "python",
                    "cell_type": "code",
                    "outputs": [],
                    "collapsed": false,
                    "metadata": {},
                    "input": [
                        "weights = np.array([1, 1.1, 1, 1.4, 0.7, 1, 1])\n",
                        "weights = iris.util.broadcast_to_shape(weights, cube.shape, (1,))\n",
                        "print cube.collapsed('model_level_number', iris.analysis.MEAN,\n",
                        "                     weights=weights).summary(True)"
                    ]
                },
                {
                    "metadata": {},
                    "source": [
                        "For an area weighted mean there is a convenience function called ``area_weights`` in ``iris.analysis.cartography``. One of the requirements of this function is that the spatial coordinates have bounds (otherwise there would be no area to calculate):"
                    ],
                    "cell_type": "markdown"
                },
                {
                    "language": "python",
                    "cell_type": "code",
                    "outputs": [],
                    "collapsed": false,
                    "metadata": {},
                    "input": [
                        "import iris.analysis.cartography\n",
                        "if cube.coord('grid_latitude').bounds is None:\n",
                        "    cube.coord('grid_latitude').guess_bounds()\n",
                        "    cube.coord('grid_longitude').guess_bounds()\n",
                        "\n",
                        "grid_areas = iris.analysis.cartography.area_weights(cube)"
                    ]
                },
                {
                    "metadata": {},
                    "source": [
                        "This can be passed to the collapsed method along with the two coordinates which we want to take the mean over:"
                    ],
                    "cell_type": "markdown"
                },
                {
                    "language": "python",
                    "cell_type": "code",
                    "outputs": [],
                    "collapsed": false,
                    "metadata": {},
                    "input": [
                        "area_avg = cube.collapsed(['grid_longitude', 'grid_latitude'],\n",
                        "                          iris.analysis.MEAN, weights=grid_areas)\n",
                        "print area_avg"
                    ]
                },
                {
                    "metadata": {},
                    "source": [
                        "**Exercise 5:** What other aggregators are available? Calculate the potential temperature variance with time for the area averaged cube (hint: We want to reduce the vertical dimension, and end up with a cube of length 3). Print the data values of the resulting cube."
                    ],
                    "cell_type": "markdown"
                },
                {
                    "language": "python",
                    "cell_type": "code",
                    "outputs": [],
                    "collapsed": false,
                    "metadata": {},
                    "input": []
                },
                {
                    "metadata": {},
                    "source": [
                        "## Iteration\n",
                        "\n",
                        "We can loop through all desired subcubes in a larger cube using the ``slices`` method."
                    ],
                    "cell_type": "markdown"
                },
                {
                    "language": "python",
                    "cell_type": "code",
                    "outputs": [],
                    "collapsed": false,
                    "metadata": {},
                    "input": [
                        "fname = iris.sample_data_path('uk_hires.pp')\n",
                        "cube = iris.load_cube(fname,\n",
                        "                      iris.Constraint('air_potential_temperature',\n",
                        "                                      model_level_number=1))\n",
                        "print cube.summary(True)"
                    ]
                },
                {
                    "language": "python",
                    "cell_type": "code",
                    "outputs": [],
                    "collapsed": false,
                    "metadata": {},
                    "input": [
                        "for subcube in cube.slices(['grid_latitude', 'grid_longitude']):\n",
                        "    print subcube.summary(shorten=True)"
                    ]
                },
                {
                    "metadata": {},
                    "source": [
                        "The ``iris.iterate.izip`` function extends this concept and allows us to step through multiple cubes at the same time:"
                    ],
                    "cell_type": "markdown"
                },
                {
                    "language": "python",
                    "cell_type": "code",
                    "outputs": [],
                    "collapsed": false,
                    "metadata": {},
                    "input": [
                        "from iris.iterate import izip\n",
                        "\n",
                        "iris.FUTURE.cell_datetime_objects = True\n",
                        "\n",
                        "e1 = iris.load_cube(iris.sample_data_path('E1_north_america.nc'))\n",
                        "a1b = iris.load_cube(iris.sample_data_path('A1B_north_america.nc'))\n",
                        "\n",
                        "for e1_slice, a1b_slice in izip(e1, a1b, coords=['latitude', 'longitude']):\n",
                        "    print e1_slice.summary(True), e1_slice.coord('time').cell(0).point\n",
                        "    print a1b_slice.summary(True), a1b_slice.coord('time').cell(0).point\n",
                        "    break"
                    ]
                },
                {
                    "metadata": {},
                    "source": [
                        "In this example, one real use for this functionality would be to plot the ``e1`` cube next to the ``a1b`` for each timestep."
                    ],
                    "cell_type": "markdown"
                },
                {
                    "metadata": {},
                    "source": [
                        "## Plotting\n",
                        "\n",
                        "Iris comes with two modules which wrap some of the common matplotlib functions such that cubes can be passed as input, rather than the usual numpy arrays. The two modules are ``iris.plot`` and ``iris.quickplot``, and they are very similar, with the primary difference that quickplot will add extra information to the axes, such as a an appropriate colour map, a colorbar, x/y axis labels and a title where possible."
                    ],
                    "cell_type": "markdown"
                },
                {
                    "language": "python",
                    "cell_type": "code",
                    "outputs": [],
                    "collapsed": false,
                    "metadata": {},
                    "input": [
                        "import iris.plot as iplt\n",
                        "import iris.quickplot as qplt\n",
                        "import matplotlib.pyplot as plt"
                    ]
                },
                {
                    "language": "python",
                    "cell_type": "code",
                    "outputs": [],
                    "collapsed": false,
                    "metadata": {},
                    "input": [
                        "cube = iris.load_cube(iris.sample_data_path('A1B_north_america.nc'))\n",
                        "ts = cube.collapsed(['latitude', 'longitude'], iris.analysis.MEAN)\n",
                        "print ts"
                    ]
                },
                {
                    "language": "python",
                    "cell_type": "code",
                    "outputs": [],
                    "collapsed": false,
                    "metadata": {},
                    "input": [
                        "iplt.plot(ts)\n",
                        "plt.show()"
                    ]
                },
                {
                    "metadata": {},
                    "source": [
                        "For comparison, lets plot the result of ``iplt.plot`` next to ``qplt.plot``:"
                    ],
                    "cell_type": "markdown"
                },
                {
                    "language": "python",
                    "cell_type": "code",
                    "outputs": [],
                    "collapsed": false,
                    "metadata": {},
                    "input": [
                        "plt.subplot(2, 1, 1)\n",
                        "iplt.plot(ts)\n",
                        "\n",
                        "plt.subplot(2, 1, 2)\n",
                        "qplt.plot(ts)\n",
                        "\n",
                        "plt.subplots_adjust(hspace=0.5)\n",
                        "plt.show()"
                    ]
                },
                {
                    "metadata": {},
                    "source": [
                        "Notice how the result of qplt has axis labels, and a title - everything else about the axes is identical."
                    ],
                    "cell_type": "markdown"
                },
                {
                    "metadata": {},
                    "source": [
                        "The plotting functions in Iris have strict rules on the dimensionality of the inputted cubes. For example, a 2d cube is needed in order to create a contour plot:"
                    ],
                    "cell_type": "markdown"
                },
                {
                    "language": "python",
                    "cell_type": "code",
                    "outputs": [],
                    "collapsed": false,
                    "metadata": {},
                    "input": [
                        "qplt.contourf(cube[:, 0, :])\n",
                        "plt.show()"
                    ]
                },
                {
                    "metadata": {},
                    "source": [
                        "Additionally, we can control the x and y axis coordinates with the **coords** keyword:"
                    ],
                    "cell_type": "markdown"
                },
                {
                    "language": "python",
                    "cell_type": "code",
                    "outputs": [],
                    "collapsed": false,
                    "metadata": {},
                    "input": [
                        "zonal_variance = cube.collapsed('longitude', iris.analysis.VARIANCE)\n",
                        "qplt.contourf(zonal_variance, coords=['forecast_period', 'latitude'])\n",
                        "plt.title('Zonal variance in air temperature')\n",
                        "plt.show()"
                    ]
                },
                {
                    "metadata": {},
                    "source": [
                        "### Maps with cartopy\n",
                        "\n",
                        "When the result of a plot operation is a map, iris will automatically create an appropriate cartopy axes if one doesn't already exist.\n",
                        "\n",
                        "We can use matplotlib's **gca()** to get hold of the automatically created cartopy axes:"
                    ],
                    "cell_type": "markdown"
                },
                {
                    "language": "python",
                    "cell_type": "code",
                    "outputs": [],
                    "collapsed": false,
                    "metadata": {},
                    "input": [
                        "import cartopy.crs as ccrs\n",
                        "\n",
                        "plt.figure(figsize=(12, 8))\n",
                        "\n",
                        "plt.subplot(1, 2, 1)\n",
                        "qplt.contourf(cube[0, ...], 25)\n",
                        "ax = plt.gca()\n",
                        "ax.coastlines()\n",
                        "\n",
                        "ax = plt.subplot(1, 2, 2, projection=ccrs.RotatedPole(100, 37))\n",
                        "qplt.contourf(cube[0, ...], 25)\n",
                        "ax.coastlines()\n",
                        "\n",
                        "plt.show()"
                    ]
                },
                {
                    "metadata": {},
                    "source": [
                        "**Exercise 6:** Use the above cube with appropriate slicing, to produce the following:\n",
                        "\n",
                        "1\\. a **contour** plot of *time* vs *longitude*"
                    ],
                    "cell_type": "markdown"
                },
                {
                    "language": "python",
                    "cell_type": "code",
                    "outputs": [],
                    "collapsed": false,
                    "metadata": {},
                    "input": []
                },
                {
                    "metadata": {},
                    "source": [
                        "2\\. a **contourf** map on a LambertConformal projection (with coastlines)"
                    ],
                    "cell_type": "markdown"
                },
                {
                    "language": "python",
                    "cell_type": "code",
                    "outputs": [],
                    "collapsed": false,
                    "metadata": {},
                    "input": []
                },
                {
                    "metadata": {},
                    "source": [
                        "3\\. a block plot (**pcolormesh**) map in its native projection  (with coastlines)"
                    ],
                    "cell_type": "markdown"
                },
                {
                    "language": "python",
                    "cell_type": "code",
                    "outputs": [],
                    "collapsed": false,
                    "metadata": {},
                    "input": []
                },
                {
                    "metadata": {},
                    "source": [
                        "4\\. a line **plot** showing *air_temperature* vs *forecast_period* (hint: plot accepts two arguments for the x and y axes)"
                    ],
                    "cell_type": "markdown"
                },
                {
                    "language": "python",
                    "cell_type": "code",
                    "outputs": [],
                    "collapsed": false,
                    "metadata": {},
                    "input": []
                },
                {
                    "metadata": {},
                    "source": [
                        "5\\. a **scatter** plot showing *air_temperature* vs *longitude* (hint: the inputs to scatter can be a combination of coordinates or 1D cubes)"
                    ],
                    "cell_type": "markdown"
                },
                {
                    "language": "python",
                    "cell_type": "code",
                    "outputs": [],
                    "collapsed": false,
                    "metadata": {},
                    "input": []
                },
                {
                    "metadata": {},
                    "source": [
                        "## Cube maths\n",
                        "\n",
                        "Basic mathematical operators exist on the cube to allow one to add/subtract/divide/multiply cubes of a similar shape to one another (currently there is no broadcasting, they must both be of the same dimensionality):"
                    ],
                    "cell_type": "markdown"
                },
                {
                    "language": "python",
                    "cell_type": "code",
                    "outputs": [],
                    "collapsed": false,
                    "metadata": {},
                    "input": [
                        "a1b = iris.load_cube(iris.sample_data_path('A1B_north_america.nc'))\n",
                        "e1 = iris.load_cube(iris.sample_data_path('E1_north_america.nc'))\n",
                        "\n",
                        "print e1.summary(True)\n",
                        "print a1b"
                    ]
                },
                {
                    "language": "python",
                    "cell_type": "code",
                    "outputs": [],
                    "collapsed": false,
                    "metadata": {},
                    "input": [
                        "scenario_difference = a1b - e1\n",
                        "print scenario_difference"
                    ]
                },
                {
                    "metadata": {},
                    "source": [
                        "Notice that the resultant cube's name is now unknown and that the coordinates \u201ctime\u201d and \u201cforecast_period\u201d have been removed; this is because these coordinates differed between the two input cubes."
                    ],
                    "cell_type": "markdown"
                },
                {
                    "metadata": {},
                    "source": [
                        "It is also possible to operate on cubes with numeric scalars, arrays and even coordinates:"
                    ],
                    "cell_type": "markdown"
                },
                {
                    "language": "python",
                    "cell_type": "code",
                    "outputs": [],
                    "collapsed": false,
                    "metadata": {},
                    "input": [
                        "e1 * e1.coord('latitude')"
                    ]
                },
                {
                    "metadata": {},
                    "source": [
                        "Cube broadcasting is also taking place, meaning that the two cubes don't need to have the same shape:"
                    ],
                    "cell_type": "markdown"
                },
                {
                    "language": "python",
                    "cell_type": "code",
                    "outputs": [],
                    "collapsed": false,
                    "metadata": {},
                    "input": [
                        "print e1 - e1.collapsed('time', iris.analysis.MEAN)"
                    ]
                },
                {
                    "metadata": {},
                    "source": [
                        "Sometimes aggregations don't exist in Iris, so it is important that we still have the power to update the cube's data directly. Whenever we do this though, we should be mindful of updating the necessary metadata on the cube:"
                    ],
                    "cell_type": "markdown"
                },
                {
                    "language": "python",
                    "cell_type": "code",
                    "outputs": [],
                    "collapsed": false,
                    "metadata": {},
                    "input": [
                        "e1_hot = e1.copy()\n",
                        "\n",
                        "e1_hot.data = np.ma.masked_less_equal(e1_hot.data, 280)                             \n",
                        "e1_hot.rename('air temperatures greater than 280K')"
                    ]
                },
                {
                    "metadata": {},
                    "source": [
                        "## Creating extra annotation coordinates for statistical convenience\n",
                        "\n",
                        "Sometimes we want to be able to categorise data before performing statistical operations on it. For example, \"daylight maximum\" and \"seasonal mean\" etc., with \"daylight\" and \"seasonal\" being categorised based, in this case, on the time coordinate.\n",
                        "\n",
                        "The ``iris.coord_categorisation`` module provides convenience functions to add some common categorical coordinates, and provides a generalised function to allow each creation of custom categorisations. "
                    ],
                    "cell_type": "markdown"
                },
                {
                    "language": "python",
                    "cell_type": "code",
                    "outputs": [],
                    "collapsed": false,
                    "metadata": {},
                    "input": [
                        "import iris.coord_categorisation as coord_cat\n",
                        "\n",
                        "filename = iris.sample_data_path('ostia_monthly.nc')\n",
                        "cube = iris.load_cube(filename, 'surface_temperature')"
                    ]
                },
                {
                    "metadata": {},
                    "source": [
                        "The cube loaded represents the monthly air_temperature from April 2006 through to October 2010. Let's add categorisation to this cube to identify the climatological season (i.e \"djf\", \"mam\", \"jja\" or \"son\"):"
                    ],
                    "cell_type": "markdown"
                },
                {
                    "language": "python",
                    "cell_type": "code",
                    "outputs": [],
                    "collapsed": false,
                    "metadata": {},
                    "input": [
                        "coord_cat.add_season(cube, 'time', name='clim_season')"
                    ]
                },
                {
                    "metadata": {},
                    "source": [
                        "We can now use the cube's **``aggregated_by``** method to \"group by and aggregate\" on the season, to produce the seasonal mean:"
                    ],
                    "cell_type": "markdown"
                },
                {
                    "language": "python",
                    "cell_type": "code",
                    "outputs": [],
                    "collapsed": false,
                    "metadata": {},
                    "input": [
                        "seasonal_mean = cube.aggregated_by('clim_season', iris.analysis.MEAN)"
                    ]
                },
                {
                    "metadata": {},
                    "source": [
                        "We can take this further by extracting by our newly created coordinate, and producing a plot of the winter zonal mean:"
                    ],
                    "cell_type": "markdown"
                },
                {
                    "language": "python",
                    "cell_type": "code",
                    "outputs": [],
                    "collapsed": false,
                    "metadata": {},
                    "input": [
                        "winter = seasonal_mean.extract(iris.Constraint(clim_season='djf'))\n",
                        "\n",
                        "qplt.plot(winter.collapsed('latitude', iris.analysis.MEAN))\n",
                        "plt.title('Winter zonal mean surface temperature at $\\pm5^{\\circ}$ latitude')\n",
                        "plt.show()"
                    ]
                },
                {
                    "metadata": {},
                    "source": [
                        "Custom categorisation can be created with an arbitrary function. For example, the already existing ``add_year`` categorisor takes the 'time' coordinate, and creates a 'year' coordinate. This could be achieved without using the available ``add_year`` by:"
                    ],
                    "cell_type": "markdown"
                },
                {
                    "language": "python",
                    "cell_type": "code",
                    "outputs": [],
                    "collapsed": false,
                    "metadata": {},
                    "input": [
                        "def year_from_time(coord, point):\n",
                        "    return coord.units.num2date(point).year\n",
                        "\n",
                        "coord_cat.add_categorised_coord(cube, 'year', cube.coord('time'),\n",
                        "                                year_from_time)\n",
                        "\n",
                        "print cube.coord('year')"
                    ]
                },
                {
                    "metadata": {},
                    "source": [
                        "## Performance tricks\n",
                        "\n",
                        "A few common tricks to improve the performance of your iris code.\n",
                        "\n",
                        " * data loading\n",
                        " * load once, extract many times"
                    ],
                    "cell_type": "markdown"
                },
                {
                    "metadata": {},
                    "source": [
                        "**Make use of deferred loading of data.** Sometimes it makes sense to load data before doing operations, other times it makes sense to do data reduction before loading:"
                    ],
                    "cell_type": "markdown"
                },
                {
                    "language": "python",
                    "cell_type": "code",
                    "outputs": [],
                    "collapsed": false,
                    "metadata": {},
                    "input": [
                        "def zonal_sum(cube):\n",
                        "    \"\"\"\n",
                        "    A really silly function to calculate the sum of the grid_longitude\n",
                        "    dimension.\n",
                        "    Don't use this in real life, instead consider doing:\n",
                        "    \n",
                        "        cube.collapsed('grid_longitude', iris.analysis.SUM)\n",
                        "    \n",
                        "    \"\"\"\n",
                        "    total = 0\n",
                        "    for i, _ in enumerate(cube.coord('grid_longitude')):\n",
                        "        total += cube[..., i].data\n",
                        "    return total\n"
                    ]
                },
                {
                    "language": "python",
                    "cell_type": "code",
                    "outputs": [],
                    "collapsed": false,
                    "metadata": {},
                    "input": [
                        "%%timeit\n",
                        "fname = iris.sample_data_path('uk_hires.pp')\n",
                        "pt = iris.load_cube(fname, 'air_potential_temperature')\n",
                        "result = zonal_sum(pt)"
                    ]
                },
                {
                    "metadata": {},
                    "source": [
                        "The exact same code, only with the data loaded upfront:"
                    ],
                    "cell_type": "markdown"
                },
                {
                    "language": "python",
                    "cell_type": "code",
                    "outputs": [],
                    "collapsed": false,
                    "metadata": {},
                    "input": [
                        "%%timeit\n",
                        "fname = iris.sample_data_path('uk_hires.pp')\n",
                        "pt = iris.load_cube(fname, 'air_potential_temperature')\n",
                        "pt.data\n",
                        "result = zonal_sum(pt)"
                    ]
                },
                {
                    "metadata": {},
                    "source": [
                        "**Load once, extract many times.** Iris loading can be slow, particularly if the format stores 2d fields of a conceptually higher dimensional dataset, as is the case with GRIB and PP. To maximise load speed and avoid unncecessary processing, it is worth constraining the fields that are of interest *at load time*, but there is no caching, so loading a file twice will be twice as slow."
                    ],
                    "cell_type": "markdown"
                },
                {
                    "language": "python",
                    "cell_type": "code",
                    "outputs": [],
                    "collapsed": false,
                    "metadata": {},
                    "input": [
                        "fname = iris.sample_data_path('uk_hires.pp')\n",
                        "model_levels = [1, 4,  7, 16]"
                    ]
                },
                {
                    "language": "python",
                    "cell_type": "code",
                    "outputs": [],
                    "collapsed": false,
                    "metadata": {},
                    "input": [
                        "%%timeit\n",
                        "for model_level in model_levels:\n",
                        "    pt = iris.load_cube(fname,\n",
                        "                        iris.Constraint('air_potential_temperature',\n",
                        "                                        model_level_number=model_level))"
                    ]
                },
                {
                    "language": "python",
                    "cell_type": "code",
                    "outputs": [],
                    "collapsed": false,
                    "metadata": {},
                    "input": [
                        "%%timeit\n",
                        "cubes = iris.load(fname)\n",
                        "for model_level in model_levels:\n",
                        "    pt = cubes.extract(iris.Constraint('air_potential_temperature',\n",
                        "                                       model_level_number=model_level),\n",
                        "                       strict=True)"
                    ]
                },
                {
                    "metadata": {},
                    "source": [
                        "For files with lots of different phenomenon this can be improved further by loading only the phenomenon (and in this case just the model levels of interest):"
                    ],
                    "cell_type": "markdown"
                },
                {
                    "language": "python",
                    "cell_type": "code",
                    "outputs": [],
                    "collapsed": false,
                    "metadata": {},
                    "input": [
                        "%%timeit\n",
                        "cube = iris.load(fname,\n",
                        "                 iris.Constraint('air_potential_temperature',\n",
                        "                                 model_level_number=model_levels))\n",
                        "for model_level in model_levels:\n",
                        "    pt = cube.extract(iris.Constraint(model_level_number=model_level))"
                    ]
                },
                {
                    "metadata": {},
                    "source": [
                        "## Thea\n",
                        "\n",
                        "Thea is a graphical user interface (GUI) which makes use of Iris.\n",
                        "Created by summer placement student Mike Walker, it is designed to be a simple interface to quickly inspect the contents of any file which Iris can load. Thea will not become a fully fledged \"iris in a GUI\", rather its scope is intentionally limited to be a very useful and easy to use data inspection tool.\n",
                        "\n",
                        "https://github.com/scitools/thea\n"
                    ],
                    "cell_type": "markdown"
                },
                {
                    "metadata": {},
                    "source": [
                        "## Exercise 7\n",
                        "\n",
                        "1. Load 'A1B_north_america.nc' from the iris sample data"
                    ],
                    "cell_type": "markdown"
                },
                {
                    "language": "python",
                    "cell_type": "code",
                    "outputs": [],
                    "collapsed": false,
                    "metadata": {},
                    "input": []
                },
                {
                    "metadata": {},
                    "source": [
                        "2\\. Extract just data from the year 1980 and beyond from the loaded data"
                    ],
                    "cell_type": "markdown"
                },
                {
                    "language": "python",
                    "cell_type": "code",
                    "outputs": [],
                    "collapsed": false,
                    "metadata": {},
                    "input": []
                },
                {
                    "metadata": {},
                    "source": [
                        "3\\. Define a function which takes a coordinate and a single time point as arguments, and returns the decade. For example, your function should return 2010 for the following:\n",
                        "\n",
                        "       time = iris.coords.DimCoord([10], 'time', units='days since 2018-01-01')\n",
                        "       print your_decade_function(time, time.points[0])"
                    ],
                    "cell_type": "markdown"
                },
                {
                    "language": "python",
                    "cell_type": "code",
                    "outputs": [],
                    "collapsed": false,
                    "metadata": {},
                    "input": []
                },
                {
                    "metadata": {},
                    "source": [
                        "4\\. Add a \"decade\" coordinate to the loaded cube using your function and the coord categorisation module"
                    ],
                    "cell_type": "markdown"
                },
                {
                    "language": "python",
                    "cell_type": "code",
                    "outputs": [],
                    "collapsed": false,
                    "metadata": {},
                    "input": []
                },
                {
                    "metadata": {},
                    "source": [
                        "5\\. Calculate the decadal means cube for this scenario"
                    ],
                    "cell_type": "markdown"
                },
                {
                    "language": "python",
                    "cell_type": "code",
                    "outputs": [],
                    "collapsed": false,
                    "metadata": {},
                    "input": []
                },
                {
                    "metadata": {},
                    "source": [
                        "6\\. Create a figure with 3 rows and 4 columns displaying the decadal means, with the decade displayed prominently in each axes' title"
                    ],
                    "cell_type": "markdown"
                },
                {
                    "language": "python",
                    "cell_type": "code",
                    "outputs": [],
                    "collapsed": false,
                    "metadata": {},
                    "input": []
                }
            ]
        }
    ],
    "nbformat": 3
}