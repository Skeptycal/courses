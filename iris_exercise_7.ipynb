{
    "worksheets": [
        {
            "metadata": {},
            "cells": [
                {
                    "metadata": {},
                    "cell_type": "markdown",
                    "source": [
                        "# Graduation exercise\n",
                        "\n",
                        "1\\. Load 'A1B_north_america.nc' from the iris sample data"
                    ]
                },
                {
                    "collapsed": false,
                    "input": [
                        "import iris\n",
                        "filename = iris.sample_data_path(\"A1B_north_america.nc\")\n",
                        "cube = iris.load_cube(filename)\n",
                        "print cube"
                    ],
                    "language": "python",
                    "metadata": {},
                    "cell_type": "code",
                    "outputs": []
                },
                {
                    "metadata": {},
                    "cell_type": "markdown",
                    "source": [
                        "2\\. Extract just data from the year 1980 and beyond from the loaded cube"
                    ]
                },
                {
                    "collapsed": false,
                    "input": [
                        "tcoord = cube.coord('time')\n",
                        "def since_1980(cell):\n",
                        "    return tcoord.units.num2date(cell.point).year >= 1980\n",
                        "\n",
                        "tcon = iris.Constraint(time=since_1980)\n",
                        "cube = cube.extract(tcon)"
                    ],
                    "language": "python",
                    "metadata": {},
                    "cell_type": "code",
                    "outputs": []
                },
                {
                    "collapsed": false,
                    "input": [
                        "tcoord = cube.coord('time')\n",
                        "\n",
                        "print tcoord.units.num2date(tcoord.points.min())\n",
                        "print tcoord.units.num2date(tcoord.points.max())"
                    ],
                    "language": "python",
                    "metadata": {},
                    "cell_type": "code",
                    "outputs": []
                },
                {
                    "metadata": {},
                    "cell_type": "markdown",
                    "source": [
                        "3\\. Define a function which takes a coordinate and a single time point as arguments, and returns the decade. For example, your function should return 2010 for the following:\n",
                        "\n",
                        "       time = iris.coords.DimCoord([10], 'time', units='days since 2018-01-01')\n",
                        "       print your_decade_function(time, time.points[0])"
                    ]
                },
                {
                    "collapsed": false,
                    "input": [
                        "def get_decade(coord, point):\n",
                        "    year = coord.units.num2date(point).year\n",
                        "    return (year/10)*10\n",
                        "time = iris.coords.DimCoord([10], 'time', units='days since 2018-01-01')\n",
                        "print get_decade(time, time.points[0])"
                    ],
                    "language": "python",
                    "metadata": {},
                    "cell_type": "code",
                    "outputs": []
                },
                {
                    "metadata": {},
                    "cell_type": "markdown",
                    "source": [
                        "4\\. Add a \"decade\" coordinate to the loaded cube using your function and the coord categorisation module"
                    ]
                },
                {
                    "collapsed": false,
                    "input": [
                        "import iris.coord_categorisation as coord_cat\n",
                        "coord_cat.add_categorised_coord(cube, 'decade', 'time', get_decade)\n",
                        "print cube.coord('decade')"
                    ],
                    "language": "python",
                    "metadata": {},
                    "cell_type": "code",
                    "outputs": []
                },
                {
                    "metadata": {},
                    "cell_type": "markdown",
                    "source": [
                        "5\\. Calculate the decadal means cube for this scenario"
                    ]
                },
                {
                    "collapsed": false,
                    "input": [
                        "import iris.analysis\n",
                        "cube = cube.aggregated_by('decade', iris.analysis.MEAN)\n",
                        "print cube"
                    ],
                    "language": "python",
                    "metadata": {},
                    "cell_type": "code",
                    "outputs": []
                },
                {
                    "metadata": {},
                    "cell_type": "markdown",
                    "source": [
                        "6\\. Create a figure with 3 rows and 4 columns displaying the decadal means, with the decade displayed prominently in each axes' title"
                    ]
                },
                {
                    "collapsed": false,
                    "input": [
                        "import matplotlib.pyplot as plt\n",
                        "import iris.plot as iplt\n",
                        "\n",
                        "plt.figure(figsize=(12, 6))\n",
                        "\n",
                        "plt.suptitle('Decadal means for the A1B scenario')\n",
                        "for i, decade_cube in enumerate(cube.slices(['latitude', 'longitude'])):\n",
                        "    plt.subplot(3, 4, i+1)\n",
                        "    iplt.contourf(decade_cube, 20)\n",
                        "    plt.title('{}'.format(decade_cube.coord('decade').points[0]))\n",
                        "    plt.gca().coastlines()\n",
                        "plt.show()"
                    ],
                    "language": "python",
                    "metadata": {},
                    "cell_type": "code",
                    "outputs": []
                }
            ]
        }
    ],
    "nbformat": 3,
    "metadata": {
        "name": "iris_exercise_7"
    },
    "nbformat_minor": 0
}