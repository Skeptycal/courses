{
    "worksheets": [
        {
            "metadata": {},
            "cells": [
                {
                    "language": "python",
                    "input": [
                        "import iris.analysis.cartography\n",
                        "cube.coord('grid_latitude').guess_bounds()\n",
                        "cube.coord('grid_longitude').guess_bounds()\n",
                        "grid_areas = iris.analysis.cartography.area_weights(cube)\n",
                        "\n",
                        "area_avg = cube.collapsed(['grid_longitude', 'grid_latitude'], iris.analysis.MEAN, weights=grid_areas)"
                    ],
                    "outputs": [],
                    "collapsed": false,
                    "metadata": {},
                    "cell_type": "code"
                },
                {
                    "source": [
                        "**Exercise 5:** What other aggregators are available? Calculate the potential temperature variance with time for the area averaged cube (hint: We want to reduce the vertical dimension, and end up with a cube of length 3). Print the data values of the resulting cube."
                    ],
                    "metadata": {},
                    "cell_type": "markdown"
                },
                {
                    "language": "python",
                    "input": [],
                    "outputs": [],
                    "collapsed": false,
                    "metadata": {},
                    "cell_type": "code"
                }
            ]
        }
    ],
    "metadata": {
        "name": ""
    },
    "nbformat_minor": 0,
    "nbformat": 3
}