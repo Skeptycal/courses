{
    "worksheets": [
        {
            "cells": [
                {
                    "cell_type": "markdown",
                    "source": [
                        "# An introduction to matplotlib\n",
                        "\n",
                        "Matplotlib is a Python package used widely throughout the scientific Python community to produce high quality 2D publication graphics. It transparently supports a wide range of output formats including PNG (and other raster formats), PostScript/EPS, PDF and SVG and has interfaces for all of the major desktop GUI (Graphical User Interface) toolkits.\n",
                        "\n",
                        "Matplotlib comes with a convenience sub-package called ``pyplot``. For consistency with the wider maptlotlib community, this should always be imported as ``plt``:"
                    ],
                    "metadata": {}
                },
                {
                    "cell_type": "code",
                    "outputs": [],
                    "input": [
                        "import matplotlib.pyplot as plt"
                    ],
                    "language": "python",
                    "collapsed": false,
                    "metadata": {}
                },
                {
                    "cell_type": "markdown",
                    "source": [
                        "## The matplotlib figure\n",
                        "\n",
                        "At the heart of **every** matplotlib plot is the \"Figure\" object. The \"Figure\" object is the top level concept that can be drawn to one of the many output formats, or simply just to screen. Any object that can be drawn in this way is known as an \"Artist\" in matplotlib.\n",
                        "\n",
                        "Lets create our first artist using pyplot, and then show it:"
                    ],
                    "metadata": {}
                },
                {
                    "cell_type": "code",
                    "outputs": [],
                    "input": [
                        "fig = plt.figure()\n",
                        "plt.show()"
                    ],
                    "language": "python",
                    "collapsed": true,
                    "metadata": {}
                },
                {
                    "cell_type": "markdown",
                    "source": [
                        "On its own, drawing the figure artist is uninteresting and will result in an empty piece of paper (that's why we didn't see anything above).\n",
                        "\n",
                        "By far the most useful artist in matplotlib is the \"Axes\" artist. The Axes artist represents the \"data space\" of a typical plot. A rectangular axes (the most common axes, but not the only axes, e.g. polar plots) will have two (confusingly named) Axis Artists with tick labels and tick marks.\n",
                        "\n",
                        "There is no limit on the number of Axes artists that can exist on a Figure artist. Let's go ahead and create a figure with a single Axes Artist, and show it using pyplot:"
                    ],
                    "metadata": {}
                },
                {
                    "cell_type": "code",
                    "outputs": [],
                    "input": [
                        "ax = plt.axes()\n",
                        "plt.show()"
                    ],
                    "language": "python",
                    "collapsed": false,
                    "metadata": {}
                },
                {
                    "cell_type": "markdown",
                    "source": [
                        "Matplotlib's ``pyplot`` module makes the process of creating graphics easier by allowing us to skip some of the tedious Artist construction. For example, we did not need to manually create the Figure artist with ``plt.figure`` because it was implicit that we needed a figure when we created the Axes artist.\n",
                        "\n",
                        "Under the hood matplotlib still had to create a Figure artist; we just didn't need to capture it into a variable. We can access the created object with the \"state\" functions found in pyplot called **``gcf``** and **``gca``**.\n",
                        "\n",
                        "**Exercise 1:**\n",
                        "\n",
                        " * Go to matplotlib.org and search for what these strangely named functions do.\n",
                        "   You will find multiple results so remember we are looking for the ``pyplot`` versions of these functions."
                    ],
                    "metadata": {}
                },
                {
                    "cell_type": "markdown",
                    "source": [
                        "## Working with the axes\n",
                        "\n",
                        "As has already been mentioned, most of your time building a graphic in matplotlib will be spent on the Axes artist. Whilst the matplotlib documentation for the Axes artist is very detailed, it is also rather difficult to navigate (though this is an area of ongoing improvement).\n",
                        "As a result, it is often easier to find new plot types by looking at the pyplot module's documentation.\n",
                        "\n",
                        "The first and most common Axes method is ``plot``. Go ahead and look at the ``plot`` documentation from the following sources:\n",
                        "\n",
                        " * http://matplotlib.org/api/pyplot_summary.html\n",
                        " * http://matplotlib.org/api/pyplot_api.html#matplotlib.pyplot.plot\n",
                        " * http://matplotlib.org/api/axes_api.html?#matplotlib.axes.Axes.plot\n",
                        " \n",
                        "Plot can be used to draw one or more lines in axes data space:"
                    ],
                    "metadata": {}
                },
                {
                    "cell_type": "code",
                    "outputs": [],
                    "input": [
                        "ax = plt.axes()\n",
                        "line1, = ax.plot([0, 1, 2, 1.5], [3, 1, 2, 4])\n",
                        "plt.show()"
                    ],
                    "language": "python",
                    "collapsed": false,
                    "metadata": {}
                },
                {
                    "cell_type": "markdown",
                    "source": [
                        "Notice how the axes view limits (``ax.viewLim``) have been updated to include the whole of the line.\n",
                        "Should we want to add some spacing around the edges of our axes we could set the axes margin using the Axes artist's [``margins``](http://matplotlib.org/api/axes_api.html?highlight=axes#matplotlib.axes.Axes.margins) method. Alternatively, we could manually set the limits with the Axes artist's [``set_xlim``](http://matplotlib.org/api/axes_api.html?#matplotlib.axes.Axes.set_xlim) and [``set_ylim``](http://matplotlib.org/api/axes_api.html?#matplotlib.axes.Axes.set_ylim) methods.\n",
                        "\n",
                        "------\n",
                        "\n",
                        "**Exercise 2:** Modify the previous example to produce three different figures that control the limits of the axes by:\n",
                        "\n",
                        "1\\. Manually setting the x and y limits to $[0.5, 2]$ and $[1, 5]$ respectively."
                    ],
                    "metadata": {}
                },
                {
                    "cell_type": "code",
                    "outputs": [],
                    "input": [],
                    "language": "python",
                    "collapsed": false,
                    "metadata": {}
                },
                {
                    "cell_type": "markdown",
                    "source": [
                        "  2\\. Defining a margin such that there is 10% whitespace inside the axes around the drawn line (Hint: numbers to margins are normalised such that 0% is 0.0 and 100% is 1.0)."
                    ],
                    "metadata": {}
                },
                {
                    "cell_type": "code",
                    "outputs": [],
                    "input": [],
                    "language": "python",
                    "collapsed": false,
                    "metadata": {}
                },
                {
                    "cell_type": "markdown",
                    "source": [
                        "3\\. Setting a 10% margin on the axes with the lower y limit set to 0. (Note: order is important here)"
                    ],
                    "metadata": {}
                },
                {
                    "cell_type": "code",
                    "outputs": [],
                    "input": [],
                    "language": "python",
                    "collapsed": false,
                    "metadata": {}
                },
                {
                    "cell_type": "markdown",
                    "source": [
                        "--------------\n",
                        "\n",
                        "In truth, the previous example can be simplified to be even shorter. First, we are not using the returned artists, so we could avoid the assignment and just call the appropriate functions. Second, in exactly the same way that we didn't *need* to manually create a Figure artist when using the ``pyplot.axes`` method, we can remove the ``plt.axes`` if we use the ``plot`` function from ``pyplot``. Our simple line example then becomes:"
                    ],
                    "metadata": {}
                },
                {
                    "cell_type": "code",
                    "outputs": [],
                    "input": [
                        "plt.plot([0, 1, 2, 1.5], [3, 1, 2, 4])\n",
                        "plt.show()"
                    ],
                    "language": "python",
                    "collapsed": false,
                    "metadata": {}
                },
                {
                    "cell_type": "markdown",
                    "source": [
                        "The simplicity of this example shows how visualisations can be produced quickly and easily with matplotlib, but it is worth remembering that for full control of Figure and Axes artists we can mix the convenience of ``pyplot`` with the power of matplotlib's object oriented design."
                    ],
                    "metadata": {}
                },
                {
                    "cell_type": "markdown",
                    "source": [
                        "--------\n",
                        "\n",
                        "**Task 3:** By calling ``plot`` multiple times, create a single axes showing the line plots of $y=sin(x)$ and $y=cos(x)$ in the interval $[0, 2\\pi]$ with 200 linearly spaced $x$ samples."
                    ],
                    "metadata": {}
                },
                {
                    "cell_type": "code",
                    "outputs": [],
                    "input": [],
                    "language": "python",
                    "collapsed": false,
                    "metadata": {}
                },
                {
                    "cell_type": "markdown",
                    "source": [
                        "--------\n",
                        "\n",
                        "## Multiple axes on the same figure (aka subplot)\n",
                        "\n",
                        "Matplotlib makes it relatively easy to add more than one Axes artist to a figure. The ``add_subplot`` method on a Figure artist, which is wrapped by the ``subplot`` function in ``pyplot``, adds an Axes artist in the grid position specified. To compute the position, we must tell matplotlib the number of rows and columns to separate the figure into, and which number the axes to be created is (1 based). For example, to create axes at the top right and bottom left of a $3 x 2$ notional grid of Axes artists the grid specifications would be ``2, 3, 3`` and ``2, 3, 4`` respectively:"
                    ],
                    "metadata": {}
                },
                {
                    "cell_type": "code",
                    "outputs": [],
                    "input": [
                        "top_right_ax = plt.subplot(2, 3, 3)\n",
                        "bottom_left_ax = plt.subplot(2, 3, 4)\n",
                        "\n",
                        "plt.show()"
                    ],
                    "language": "python",
                    "collapsed": false,
                    "metadata": {}
                },
                {
                    "cell_type": "markdown",
                    "source": [
                        "--------\n",
                        "\n",
                        "**Exercise 3 continued:** Copy the answer from the previous task (plotting $y=sin(x)$ and $y=cos(x)$) and add the appropriate ``plt.subplot`` calls to create a figure with two rows of Axes artists, one showing $y=sin(x)$ and the other showing $y=cos(x)$."
                    ],
                    "metadata": {}
                },
                {
                    "cell_type": "code",
                    "outputs": [],
                    "input": [],
                    "language": "python",
                    "collapsed": false,
                    "metadata": {}
                },
                {
                    "cell_type": "markdown",
                    "source": [
                        "--------\n",
                        "\n",
                        "## Further plot types\n",
                        "\n",
                        "Matplotlib comes with a huge variety of different plot types. Here is a quick demonstration of the more common ones."
                    ],
                    "metadata": {}
                },
                {
                    "cell_type": "code",
                    "outputs": [],
                    "input": [
                        "import numpy as np"
                    ],
                    "language": "python",
                    "collapsed": false,
                    "metadata": {}
                },
                {
                    "cell_type": "code",
                    "outputs": [],
                    "input": [
                        "x = np.linspace(-180, 180, 60)\n",
                        "y = np.linspace(-90, 90, 30)\n",
                        "x2d, y2d = np.meshgrid(x, y)\n",
                        "data = np.cos(3 * np.deg2rad(x2d)) + np.sin(2 * np.deg2rad(y2d))"
                    ],
                    "language": "python",
                    "collapsed": false,
                    "metadata": {}
                },
                {
                    "cell_type": "code",
                    "outputs": [],
                    "input": [
                        "plt.contourf(x, y, data)\n",
                        "plt.show()"
                    ],
                    "language": "python",
                    "collapsed": false,
                    "metadata": {}
                },
                {
                    "cell_type": "code",
                    "outputs": [],
                    "input": [
                        "plt.imshow(data, extent=[-180, 180, -90, 90],\n",
                        "           interpolation='nearest', origin='lower')\n",
                        "plt.show()"
                    ],
                    "language": "python",
                    "collapsed": false,
                    "metadata": {}
                },
                {
                    "cell_type": "code",
                    "outputs": [],
                    "input": [
                        "plt.pcolormesh(x, y, data)\n",
                        "plt.show()"
                    ],
                    "language": "python",
                    "collapsed": false,
                    "metadata": {}
                },
                {
                    "cell_type": "code",
                    "outputs": [],
                    "input": [
                        "plt.scatter(x2d, y2d, c=data, s=15)\n",
                        "plt.show()"
                    ],
                    "language": "python",
                    "collapsed": false,
                    "metadata": {}
                },
                {
                    "cell_type": "code",
                    "outputs": [],
                    "input": [
                        "plt.bar(x, data.sum(axis=0), width=np.diff(x)[0])\n",
                        "plt.show()"
                    ],
                    "language": "python",
                    "collapsed": false,
                    "metadata": {}
                },
                {
                    "cell_type": "code",
                    "outputs": [],
                    "input": [
                        "plt.plot(x, data.sum(axis=0), linestyle='--',\n",
                        "         marker='d', markersize=10, color='red')\n",
                        "plt.show()"
                    ],
                    "language": "python",
                    "collapsed": false,
                    "metadata": {}
                },
                {
                    "cell_type": "markdown",
                    "source": [
                        "## Titles, Legends, colorbars and annotations"
                    ],
                    "metadata": {}
                },
                {
                    "cell_type": "markdown",
                    "source": [
                        "Matplotlib has convenience functions for the addition of plot elements such as titles, legends, colorbars and text based annotation."
                    ],
                    "metadata": {}
                },
                {
                    "cell_type": "markdown",
                    "source": [
                        "The ``suptitle`` pyplot function allows us to set the title of a figure, and the ``set_title`` method on an Axes artist allows us to set the title of an individual axes. Additionally Axes artists have methods named ``set_xlabel`` and ``set_ylabel`` to label the respective x and y Axis artists (that's Axis, not Axes). Finally, we can add text, located by data coordinates, with the ``text`` method on an Axes artist:"
                    ],
                    "metadata": {}
                },
                {
                    "cell_type": "code",
                    "outputs": [],
                    "input": [
                        "fig = plt.figure()\n",
                        "ax = plt.axes()\n",
                        "# Adjust the created axes so its topmost extent is 0.8 of the figure.\n",
                        "fig.subplots_adjust(top=0.8)\n",
                        "\n",
                        "fig.suptitle('Figure title', fontsize=18, fontweight='bold')\n",
                        "ax.set_title('Axes title', fontsize=16)\n",
                        "\n",
                        "ax.set_xlabel('The X axis')\n",
                        "ax.set_ylabel('The Y axis $y=f(x)$', fontsize=16)\n",
                        "\n",
                        "ax.text(0.5, 0.5, 'Text centered at (0.5, 0.5)\\nin data coordinates.',\n",
                        "        horizontalalignment='center', fontsize=14)\n",
                        "\n",
                        "plt.show()"
                    ],
                    "language": "python",
                    "collapsed": false,
                    "metadata": {}
                },
                {
                    "cell_type": "markdown",
                    "source": [
                        "The creation of a legend is as simple as adding a \"label\" to lines of interest. This can be done in the call to ``plt.plot`` and then followed up with a call to ``plt.legend``:"
                    ],
                    "metadata": {}
                },
                {
                    "cell_type": "code",
                    "outputs": [],
                    "input": [
                        "x = np.linspace(-3, 7, 200)\n",
                        "plt.plot(x, 0.5*x**3 - 3*x**2, linewidth=2,\n",
                        "         label='$f(x)=0.5x^2-3x^2$')\n",
                        "plt.plot(x, 1.5*x**2 - 6*x, linewidth=2, linestyle='--',\n",
                        "         label='Gradient of $f(x)$', )\n",
                        "plt.legend(loc='lower right')\n",
                        "plt.grid()\n",
                        "plt.show()"
                    ],
                    "language": "python",
                    "collapsed": false,
                    "metadata": {}
                },
                {
                    "cell_type": "markdown",
                    "source": [
                        "Colorbars are created with the ``plt.colorbar`` function:"
                    ],
                    "metadata": {}
                },
                {
                    "cell_type": "code",
                    "outputs": [],
                    "input": [
                        "x = np.linspace(-180, 180, 60)\n",
                        "y = np.linspace(-90, 90, 30)\n",
                        "x2d, y2d = np.meshgrid(x, y)\n",
                        "data = np.cos(3 * np.deg2rad(x2d)) + np.sin(2 * np.deg2rad(y2d))\n",
                        "\n",
                        "plt.contourf(x, y, data)\n",
                        "plt.colorbar(orientation='horizontal')\n",
                        "plt.show()"
                    ],
                    "language": "python",
                    "collapsed": false,
                    "metadata": {}
                },
                {
                    "cell_type": "markdown",
                    "source": [
                        "Matplotlib comes with powerful annotation capabilities, which  are described in detail at http://matplotlib.org/users/annotations_intro.html.\n",
                        "\n",
                        "The annotation's power can mean that the syntax is a little harder to read, which is demonstrated by one of the simplest examples of using annotate:"
                    ],
                    "metadata": {}
                },
                {
                    "cell_type": "code",
                    "outputs": [],
                    "input": [
                        "x = np.linspace(-3, 7, 200)\n",
                        "plt.plot(x, 0.5*x**3 - 3*x**2, linewidth=2)\n",
                        "plt.annotate('Local minimum',\n",
                        "             xy=(4, -18),\n",
                        "             xytext=(-2, -40), fontsize=15,\n",
                        "             arrowprops={'facecolor': 'black', 'frac': 0.3})\n",
                        "plt.grid()\n",
                        "plt.show()"
                    ],
                    "language": "python",
                    "collapsed": false,
                    "metadata": {}
                },
                {
                    "cell_type": "markdown",
                    "source": [
                        "## Savefig & backends\n",
                        "\n",
                        "Matplotlib allows you to specify a \"backend\" to drive rendering the figure. The backend includes the graphical user interface (GUI) library to use, and the most used backend (as it is normally the default one) is the \"TkAgg\" backend. When ``plt.show()`` is called, this backend pops up a figure in a new TkInter window, which is rendered by the anti-grain graphics library (also known as \"agg\"). Generally, the most common reason to want to change backends is for automated figure production on a headless server. In this situation, the \"agg\" backend can be used:\n",
                        "\n",
                        "    import matplotlib\n",
                        "    matplotlib.use('agg')\n",
                        "    import matplotlib.pyplot as plt\n",
                        "    \n",
                        "Note: The backend must be chosen before importing pyplot for the first time, unless the ``force`` keyword is added.\n",
                        "\n",
                        "Non-interactive backends such as the \"agg\" backend will do nothing when **``plt.show()``** is called - this is because there is nowhere (no graphical display) specified for a figure to be displayed.\n",
                        "\n",
                        "To save a figure programmatically the ``savefig`` function can be used from _any_ backend:"
                    ],
                    "metadata": {}
                },
                {
                    "cell_type": "code",
                    "outputs": [],
                    "input": [
                        "plt.plot(range(10))\n",
                        "plt.savefig('simple.svg')"
                    ],
                    "language": "python",
                    "collapsed": false,
                    "metadata": {}
                },
                {
                    "cell_type": "markdown",
                    "source": [
                        "For graphical backends, showing and subsequently closing the window of a figure results in the figure being cleared from the matplotlib system. This is not the case for ``plt.savefig``, which typically should be called before ``plt.show``.\n",
                        "\n",
                        "It is also possible to manually close figures without showing them by using the ``plt.close`` function. This could be called to remove the current figure after saving it with ``plt.savefig`` on the occasion where not clearing the figure might interfere with subsequent plots to be created."
                    ],
                    "metadata": {}
                }
            ],
            "metadata": {}
        }
    ],
    "nbformat_minor": 0,
    "nbformat": 3,
    "metadata": {
        "signature": "sha256:4f2f0779488fdbdd0f4c50642dc5c08af413618966887a22ed5e603cefa1b6ff",
        "name": ""
    }
}