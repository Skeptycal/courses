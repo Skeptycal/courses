{
    "worksheets": [
        {
            "cells": [
                {
                    "source": [
                        "## Exercise 4\n",
                        "\n",
                        "The following exercise is designed to give you experience of identifying why two cubes are not merging. Work is underway to make this identification process more automatic, but the resolution of the identified differences will still be a necessary process.\n",
                        "\n",
                        "There are 6 problems, each of which are not merging into a single cube as desired. In no particular order the problems are:\n",
                        "\n",
                        " 1. one of the cubes has a history attribute, but the other doesn't\n",
                        " 2. one of the cubes has bounds on the spatial coordinates, but the other doesn't\n",
                        " 3. the two cubes have different time coordinate units\n",
                        " 4. the two cubes have different data dtypes\n",
                        " 5. the two cubes have different long names\n",
                        " 6. the two cubes have different shapes (the data must currently be loaded to correct this)\n",
                        " \n",
                        "The files can be found in the repository along with this course in ```exercises/iris/merge/```. There are two files to be loaded for each exercise: ```merge_exercise.{problem_number}.f1.nc``` and ```merge_exercise.{problem_number}.f2.nc```.\n",
                        "\n",
                        "Identify, and correct, the reason that the two cubes are not merging for all 6 sets of files."
                    ],
                    "cell_type": "markdown",
                    "metadata": {}
                },
                {
                    "source": [
                        "# Problem 1"
                    ],
                    "cell_type": "markdown",
                    "metadata": {}
                }
            ],
            "metadata": {}
        }
    ],
    "nbformat": 3,
    "nbformat_minor": 0,
    "metadata": {
        "name": ""
    }
}